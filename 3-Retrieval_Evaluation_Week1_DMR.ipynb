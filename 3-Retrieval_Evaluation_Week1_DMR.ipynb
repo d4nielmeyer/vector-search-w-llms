{
 "cells": [
  {
   "cell_type": "markdown",
   "id": "7d49f27a-15ba-4176-bf6d-211051a8cef6",
   "metadata": {},
   "source": [
    "#### Week 1: Vector Search Applications w/ LLMs.  Authored by Chris Sanchez."
   ]
  },
  {
   "cell_type": "markdown",
   "id": "b8a48d4e-11e4-45b5-8cfc-f595d61e11bd",
   "metadata": {},
   "source": [
    "# Week 1 - Notebook 3\n",
    "\n",
    "# Overview\n",
    "***\n",
    "Welcome to the final notebook for Week 1! Take a look at all the ground we've covered so far:\n",
    "- Chunking/splitting\n",
    "- Vectorization of text\n",
    "- Combining with metadata\n",
    "- Saving to disk\n",
    "- Class Configuration\n",
    "- Data Indexing\n",
    "- Keyword search\n",
    "- Vector search\n",
    "- OPTIONAL: Searching with Filters\n",
    "\n",
    "We are now prepared to move on to a very important topic, **Retrieval Evaluation**.  I hope you've noticed that the search results will differ (sometimes slightly, sometimes by a lot) depeding on which search method you used: `keyword_search` or `vector_search`.  As humans, it's fairly easy for us to determine whether the returned search results are relevant to the query that was submitted, (though even here there will be differing opinions on result relevance).  But how do we systematically determine which search method is better in general?  And how do we measure the relative performance of our retrieval system if we change one of it's parameters...for example, changing our embedding model? What about measuring system performance over time as more documents are added to our datastore?\n",
    "\n",
    "We need a way to evaluate our retrieval system, and this notebook will show you \"one way\" of doing that.  I say \"one way\" because there are many ways to approach this problem, and the method I'm showing you is not perfect (if anything it's a bit too conservative).  Ultimately, measuring retrieval performance is hard because it requires a lot of time and effort, and absent any user [click-data](https://en.wikipedia.org/wiki/Click_tracking), requires some form of data labeling.  With the advent of powerful generative LLMs the process of measuring retrieval performance has become much easier. Let's take a look at how that works.\n",
    "\n",
    "# Retrieval Evaluation - Process\n",
    "***\n",
    "Here's a high-level overview of how the Retrieval Evaluation process in this notebook works:\n",
    "\n",
    "1. Generate a \"golden dataset\" of query-context pairs.  I used a pseudo-LlamaIndex implementation for this step.  I say \"pseudo\" implementation because I used LlamaIndex as the backbone, but I had to rewrite significant portions of the dataset generation code because of the opinionated way that LlamaIndex is built. 100 document chunks (contexts) were randomly selected from the Impact Theory corpus and those chunks were then submitted to the `gpt-3.5-turbo` model which generated a query that could be answered by the context.  The output was 100 query-context pairs along with associated doc_ids. \n",
    "   - **Assumptions**:\n",
    "     - The generated query-context pairs are, in fact, relevant to one another i.e. the query can be answered by the context that it's paired with\n",
    "     - The generated queries are simliar in style and length to the type of queries that end users would ask\n",
    "2. The golden dataset consists of three primary keys: `corpus`, `relevant_docs`, and `queries`\n",
    "     - The `corpus` is the original text context/chunk with it's associated `doc_id`\n",
    "     - The `queries` are the LLM generated queries, one (or more) for each entry in the `corpus`\n",
    "     - The `relevant_docs` is a simple lookup table linking the `corpus` docs to the generated `queries`\n",
    "3. We pass the golden dataset into a retrieval evluation function which does the following:\n",
    "   - Takes in a `retriever` arg (`WeaviateClient`) and a few other configuration params\n",
    "   - Iterates over all queries in the golden dataset and retrieves search results for each query from Weaviate datastore\n",
    "   - Extracts all `doc_id` values from the retrieved results\n",
    "   - Extracts the `doc_id` from the associated `relevant_docs` for each query\n",
    "   - Checks if the relevant doc_id is in the list of retrieved result doc_ids\n",
    "   - After all queries are completed a `hit_rate` score and `mrr` score are calculated for the entire golden dataset\n",
    "   - Writes results to an `eval_results` folder\n",
    "\n",
    "#### In a Nutshell\n",
    "Ulitmately, given a golden dataset consisting of queries, relevant docs, and their associated doc_ids, the `retrieval_evaluation` function is checking if the relevant doc_id is found in the list of retrieved results doc_ids, for each query.\n",
    "\n",
    "#### Problems with this Approach\n",
    "The problems with this approach are many, I'll cover a few here:\n",
    "- The **Assumptions** (see section 1 above) about the golden dataset must hold true.  Given that the pairs are generated by `gpt-3.5-turbo`, I think the first assumption will generally be true.  When reviewing the dataset I did find a few questions that were not answerable given the context, but for the most part they were.  The 2nd assumption though, is going to be dependent on your particular search use case.  I think for the purposes of this course, the questions generated are a decent reflection of how someone would query this dataset, and therefore do the job of measuring retriever performance.  But I would always check a real-world query distribution before using an approach like the one presented here.\n",
    "- This approach is conversative in that there is only \"one\" right answer.  Either the relevant `doc_id` is in the results list or it isn't.  In reality, there are going to be several documents that could potentially answer the generated query, but we have no way to account for these other relevant documents, unless of course, we want to manually add doc_ids to the golden dataset (and depending on your business case, you may actually want to do that).\n",
    "- We aren't measuring recall or precision because we aren't classifying other documents as \"negatives\".  As was just mentioned, the other documents in the results list may or may not be good matches, we just don't know.  Because we don't know, we can't really classify the other documents as \"negatives\".  So for this approach, we are measuring the [\"hit rate\"](https://uplimit.com/course/vector-search-apps/admin2/content/session_cln9hzpkl00721aah4hbz06fc/module/module_clo3hmyh0006p12cb3bmygky4) which is simply a count of the number of times that we found a relevant `doc_id` match in the results list and [Mean Reciprocal Rank (MRR)](https://uplimit.com/course/vector-search-apps/admin2/content/session_cln9hzpkl00721aah4hbz06fc/module/module_clo3hmyh0006p12cb3bmygky4).  We're using MRR over other metrics such as Mean Average Precision (MAP) because we are only looking at a [single relevant answer](https://stats.stackexchange.com/questions/127041/mean-average-precision-vs-mean-reciprocal-rank).  Hit rate is a good enough metric for determining if our retriever is retrieving quality results, and MRR will become more important later on when we add a Reranker to the mix.  "
   ]
  },
  {
   "cell_type": "code",
   "execution_count": 1,
   "id": "aa6a6f95-91c6-4a08-a3a0-2aafc2d56b77",
   "metadata": {
    "ExecuteTime": {
     "end_time": "2023-12-09T11:37:10.522994Z",
     "start_time": "2023-12-09T11:37:10.477866Z"
    }
   },
   "outputs": [],
   "source": [
    "#standard library imports\n",
    "from typing import List, Tuple, Dict, Any\n",
    "import time\n",
    "import os\n",
    "\n",
    "# utilities\n",
    "from tqdm.notebook import tqdm\n",
    "from rich import print\n",
    "from dotenv import load_dotenv\n",
    "env = load_dotenv('./.env', override=True)"
   ]
  },
  {
   "cell_type": "markdown",
   "id": "5e4522b4-5248-4936-af87-b0a2220bdb6d",
   "metadata": {},
   "source": [
    "# Assignment 1.3\n",
    "***\n",
    "#### Instructions:\n",
    "* Import the `golden_100.json` dataset using the `from_json` method of the LlamaIndex `EmbeddingQAFinetuneDataset` Class\n",
    "  - **side note: The `EmbeddingQAFinetuneDataset` Class is the same class used for creating fine-tuning datasets\n",
    "* Instantiate a new Weaviate Client (Retriever) and set the `class_name` of the Class that you created in Notebook 2\n",
    "* Evaluate your retriever results using the `retrieval_evaluation` function\n",
    "* Submit your results in the form of a text file to Uplimit (the function autogenerates a report in the `dir_outpath` directory)."
   ]
  },
  {
   "cell_type": "code",
   "execution_count": 2,
   "id": "c9968b62-3814-40b9-bb2a-8c76968825c0",
   "metadata": {
    "ExecuteTime": {
     "end_time": "2023-12-09T11:44:38.574609Z",
     "start_time": "2023-12-09T11:44:36.536715Z"
    }
   },
   "outputs": [
    {
     "name": "stderr",
     "output_type": "stream",
     "text": [
      "/Users/dmr/miniforge3/envs/vector-search-w-llm/lib/python3.10/site-packages/llama_index/download/download_utils.py:11: DeprecationWarning: pkg_resources is deprecated as an API. See https://setuptools.pypa.io/en/latest/pkg_resources.html\n",
      "  import pkg_resources\n",
      "/Users/dmr/miniforge3/envs/vector-search-w-llm/lib/python3.10/site-packages/pkg_resources/__init__.py:2871: DeprecationWarning: Deprecated call to `pkg_resources.declare_namespace('mpl_toolkits')`.\n",
      "Implementing implicit namespace packages (as specified in PEP 420) is preferred to `pkg_resources.declare_namespace`. See https://setuptools.pypa.io/en/latest/references/keywords.html#keyword-namespace-packages\n",
      "  declare_namespace(pkg)\n"
     ]
    },
    {
     "data": {
      "text/html": [
       "<pre style=\"white-space:pre;overflow-x:auto;line-height:normal;font-family:Menlo,'DejaVu Sans Mono',consolas,'Courier New',monospace\">Num queries in Golden Dataset: <span style=\"color: #008080; text-decoration-color: #008080; font-weight: bold\">100</span>\n",
       "</pre>\n"
      ],
      "text/plain": [
       "Num queries in Golden Dataset: \u001b[1;36m100\u001b[0m\n"
      ]
     },
     "metadata": {},
     "output_type": "display_data"
    },
    {
     "data": {
      "text/plain": [
       "(True, True)"
      ]
     },
     "execution_count": 2,
     "metadata": {},
     "output_type": "execute_result"
    }
   ],
   "source": [
    "from retrieval_evaluation import calc_hit_rate_scores, calc_mrr_scores, record_results, add_params\n",
    "from llama_index.finetuning import EmbeddingQAFinetuneDataset\n",
    "from weaviate_interface import WeaviateClient\n",
    "\n",
    "#################\n",
    "##  START CODE ##\n",
    "#################\n",
    "\n",
    "# Load QA dataset\n",
    "golden_dataset = EmbeddingQAFinetuneDataset.from_json(\"./data/golden_100.json\")\n",
    "\n",
    "# should see 100 queries\n",
    "print(f'Num queries in Golden Dataset: {len(golden_dataset.queries)}')\n",
    "\n",
    "### Instantiate Weaviate client and set Class name\n",
    "class_name = \"Impact_theory_minilm_256\"\n",
    "\n",
    "#read env vars from local .env file\n",
    "api_key = os.environ['WEAVIATE_API_KEY']\n",
    "url = os.environ['WEAVIATE_ENDPOINT']\n",
    "\n",
    "#instantiate client\n",
    "client = WeaviateClient(api_key, url)\n",
    "\n",
    "#check if WCS instance is live and ready\n",
    "client.is_live(), client.is_ready()\n",
    "\n",
    "#################\n",
    "##  END CODE   ##\n",
    "#################"
   ]
  },
  {
   "cell_type": "markdown",
   "id": "2dbc77d4-07d3-4e3f-8330-76aefea948c6",
   "metadata": {},
   "source": [
    "#### Once your golden dataset is loaded in memory, you can view its content using dot notation like so: `golden_dataset.queries`, `golden_dataset.corpus`, `golden_dataset.relevant_docs`"
   ]
  },
  {
   "cell_type": "markdown",
   "id": "946e13a3-9350-40d9-8bfe-0cd37f2ade2f",
   "metadata": {},
   "source": [
    "# Project 1: Retrieval Evaluation"
   ]
  },
  {
   "cell_type": "code",
   "execution_count": 3,
   "id": "255bdabd-770e-4b12-8bd8-54e5cdc64f77",
   "metadata": {
    "ExecuteTime": {
     "end_time": "2023-12-09T11:44:58.061577Z",
     "start_time": "2023-12-09T11:44:58.048046Z"
    }
   },
   "outputs": [],
   "source": [
    "def retrieval_evaluation(dataset: EmbeddingQAFinetuneDataset, \n",
    "                         class_name: str, \n",
    "                         retriever: WeaviateClient,\n",
    "                         retrieve_limit: int=5,\n",
    "                         chunk_size: int=256,\n",
    "                         hnsw_config_keys: List[str]=['maxConnections', 'efConstruction', 'ef'],\n",
    "                         display_properties: List[str]=['doc_id', 'guest', 'content'],\n",
    "                         dir_outpath: str='./eval_results',\n",
    "                         include_miss_info: bool=False,\n",
    "                         user_def_params: Dict[str,Any]=None\n",
    "                         ) -> Dict[str, str|int|float]:\n",
    "    '''\n",
    "    Given a dataset and a retriever evaluate the performance of the retriever. Returns a dict of kw and vector\n",
    "    hit rates and mrr scores. If inlude_miss_info is True, will also return a list of kw and vector responses \n",
    "    and their associated queries that did not return a hit, for deeper analysis. Text file with results output\n",
    "    is automatically saved in the dir_outpath directory.\n",
    "\n",
    "    Args:\n",
    "    -----\n",
    "    dataset: EmbeddingQAFinetuneDataset\n",
    "        Dataset to be used for evaluation\n",
    "    class_name: str\n",
    "        Name of Class on Weaviate host to be used for retrieval\n",
    "    retriever: WeaviateClient\n",
    "        WeaviateClient object to be used for retrieval \n",
    "    retrieve_limit: int=5\n",
    "        Number of documents to retrieve from Weaviate host\n",
    "    chunk_size: int=256\n",
    "        Number of tokens used to chunk text. This value is purely for results \n",
    "        recording purposes and does not affect results. \n",
    "    display_properties: List[str]=['doc_id', 'content']\n",
    "        List of properties to be returned from Weaviate host for display in response\n",
    "    dir_outpath: str='./eval_results'\n",
    "        Directory path for saving results.  Directory will be created if it does not\n",
    "        already exist. \n",
    "    include_miss_info: bool=False\n",
    "        Option to include queries and their associated kw and vector response values\n",
    "        for queries that are \"total misses\"\n",
    "    user_def_params : dict=None\n",
    "        Option for user to pass in a dictionary of user-defined parameters and their values.\n",
    "    '''\n",
    "\n",
    "    results_dict = {'n':retrieve_limit, \n",
    "                    'Retriever': retriever.model_name_or_path, \n",
    "                    'chunk_size': chunk_size,\n",
    "                    'kw_hit_rate': 0,\n",
    "                    'kw_mrr': 0,\n",
    "                    'vector_hit_rate': 0,\n",
    "                    'vector_mrr': 0,\n",
    "                    'total_misses': 0,\n",
    "                    'total_questions':0\n",
    "                    }\n",
    "    #add hnsw configs and user defined params (if any)\n",
    "    results_dict = add_params(client, class_name, results_dict, user_def_params, hnsw_config_keys)\n",
    "    \n",
    "    start = time.perf_counter()\n",
    "    miss_info = []\n",
    "    for query_id, q in tqdm(dataset.queries.items(), 'Queries'):\n",
    "        results_dict['total_questions'] += 1\n",
    "        hit = False\n",
    "        #make Keyword, Vector, and Hybrid calls to Weaviate host\n",
    "        try:\n",
    "            kw_response = retriever.keyword_search(request=q, class_name=class_name, limit=retrieve_limit, display_properties=display_properties)\n",
    "            vector_response = retriever.vector_search(request=q, class_name=class_name, limit=retrieve_limit, display_properties=display_properties)\n",
    "            \n",
    "            #collect doc_ids and position of doc_ids to check for document matches\n",
    "            kw_doc_ids = {result['doc_id']:i for i, result in enumerate(kw_response, 1)}\n",
    "            vector_doc_ids = {result['doc_id']:i for i, result in enumerate(vector_response, 1)}\n",
    "            \n",
    "            #extract doc_id for scoring purposes\n",
    "            doc_id = dataset.relevant_docs[query_id][0]\n",
    "     \n",
    "            #increment hit_rate counters and mrr scores\n",
    "            if doc_id in kw_doc_ids:\n",
    "                results_dict['kw_hit_rate'] += 1\n",
    "                results_dict['kw_mrr'] += 1/kw_doc_ids[doc_id]\n",
    "                hit = True\n",
    "            if doc_id in vector_doc_ids:\n",
    "                results_dict['vector_hit_rate'] += 1\n",
    "                results_dict['vector_mrr'] += 1/vector_doc_ids[doc_id]\n",
    "                hit = True\n",
    "                \n",
    "            # if no hits, let's capture that\n",
    "            if not hit:\n",
    "                results_dict['total_misses'] += 1\n",
    "                miss_info.append({'query': q, 'kw_response': kw_response, 'vector_response': vector_response})\n",
    "        except Exception as e:\n",
    "            print(e)\n",
    "            continue\n",
    "    \n",
    "\n",
    "    #use raw counts to calculate final scores\n",
    "    calc_hit_rate_scores(results_dict)\n",
    "    calc_mrr_scores(results_dict)\n",
    "    \n",
    "    end = time.perf_counter() - start\n",
    "    print(f'Total Processing Time: {round(end/60, 2)} minutes')\n",
    "    record_results(results_dict, chunk_size, dir_outpath=dir_outpath, as_text=True)\n",
    "    \n",
    "    if include_miss_info:\n",
    "        return results_dict, miss_info\n",
    "    return results_dict"
   ]
  },
  {
   "cell_type": "markdown",
   "id": "1cd5ed71-d150-4312-9d41-0b43ae43bd72",
   "metadata": {},
   "source": [
    "### Run evaluation over golden dataset"
   ]
  },
  {
   "cell_type": "code",
   "execution_count": 4,
   "id": "d42568cd-d0e3-4640-8865-37b6dff80307",
   "metadata": {
    "ExecuteTime": {
     "end_time": "2023-12-09T11:46:34.518829Z",
     "start_time": "2023-12-09T11:45:24.282796Z"
    }
   },
   "outputs": [
    {
     "data": {
      "application/vnd.jupyter.widget-view+json": {
       "model_id": "2b23dffe5b444504880b7df995d8f88e",
       "version_major": 2,
       "version_minor": 0
      },
      "text/plain": [
       "Queries:   0%|          | 0/100 [00:00<?, ?it/s]"
      ]
     },
     "metadata": {},
     "output_type": "display_data"
    },
    {
     "data": {
      "text/html": [
       "<pre style=\"white-space:pre;overflow-x:auto;line-height:normal;font-family:Menlo,'DejaVu Sans Mono',consolas,'Courier New',monospace\">Total Processing Time: <span style=\"color: #008080; text-decoration-color: #008080; font-weight: bold\">0.22</span> minutes\n",
       "</pre>\n"
      ],
      "text/plain": [
       "Total Processing Time: \u001b[1;36m0.22\u001b[0m minutes\n"
      ]
     },
     "metadata": {},
     "output_type": "display_data"
    }
   ],
   "source": [
    "#################\n",
    "##  START CODE ##\n",
    "#################\n",
    "results = retrieval_evaluation(golden_dataset, class_name, client)"
   ]
  },
  {
   "cell_type": "code",
   "execution_count": 5,
   "id": "39644805",
   "metadata": {
    "ExecuteTime": {
     "end_time": "2023-12-09T11:46:56.679167Z",
     "start_time": "2023-12-09T11:46:56.670118Z"
    },
    "collapsed": false,
    "jupyter": {
     "outputs_hidden": false
    }
   },
   "outputs": [
    {
     "data": {
      "text/plain": [
       "{'n': 5,\n",
       " 'Retriever': 'sentence-transformers/all-MiniLM-L6-v2',\n",
       " 'chunk_size': 256,\n",
       " 'kw_hit_rate': 0.72,\n",
       " 'kw_mrr': 0.59,\n",
       " 'vector_hit_rate': 0.37,\n",
       " 'vector_mrr': 0.29,\n",
       " 'total_misses': 25,\n",
       " 'total_questions': 100,\n",
       " 'maxConnections': 32,\n",
       " 'efConstruction': 128,\n",
       " 'ef': 64}"
      ]
     },
     "execution_count": 5,
     "metadata": {},
     "output_type": "execute_result"
    }
   ],
   "source": [
    "results"
   ]
  },
  {
   "cell_type": "markdown",
   "id": "50d20ebe-be43-43fc-b43c-1657ae9569f9",
   "metadata": {},
   "source": [
    "# Conclusion\n",
    "***\n",
    "\n",
    "We now have a way of measuring the performance of our system.  This will allow you to make tweaks/changes to the system and then be able to objectively tell whether or not the tweak/change improved or degraded its performance.  Here are a few things to consider going forward:  \n",
    "\n",
    "- Keep in mind what the ulitmate goal of the system is that you are building.  For this course, we are trying to retrieve the most relevant documents as possible that will effectively address a user query, assuming the information is found within the corpus.  This means that we don't need pages and pages of relevant results, we actually only need the top 3-5, just enough to allow our Reader (the OpenAI LLM) to answer the user query.  This is an important point to be thinking about as you are making changes to the retrieval system.\n",
    "- Feel free to set the `include_miss_info` param to `True`.  Doing so will return a list of both the keyword and vector responses that did not contain the relevant `doc_id` (a \"total_miss\" means the `doc_id` was not present in either the `kw_doc_ids` or the `vector_doc_ids`).  Take a look at the style of the queries being asked and compare them with the returned responses.  Why are those responses being returned?  Are they close to the intent of the query?\n",
    "- Last but not least, you are now free to make changes to your system to improve the `hit_rate` and `mrr` scores.  If it were me, I'd start with switching out to a more performant [embedding model](https://huggingface.co/spaces/mteb/leaderboard).  There will be more opportunities to pick up some low hanging fruit, but we'll have to wait until the following week when hybrid search and Rerankers are introduced.  Whatever you do though, don't change params for the `SentenceSplitter` that you use for chunking the corpus.  Due to the way the golden dataset is derived, it's unfortunately dependent on those original `SentenceSplitter` settings remaining the same across evaluations. That is, of course, unless you want to build out your own golden dataset...."
   ]
  },
  {
   "cell_type": "markdown",
   "id": "a7f49f46-a414-4cce-9e33-812be531e46d",
   "metadata": {},
   "source": [
    "# **OPTIONAL but encouraged... --> Fine-Tuning an Embedding Model\n",
    "***\n",
    "#### This exercise won't cost you anything except some time...\n",
    "\n",
    "#### It is recommended to run this specific section either locally on your machine or on Google Colab. As a proxy, it will take less than 10 minutes to run in a Macbook Air M1.\n",
    "\n",
    "Aside from switching out your emebdding model to improve your retrieval results, you could also try fine tuning your embedding model (or better yet, switch out your model and then fine tune the new one...👊).  For the longest time, the problem with fine-tuning sentence embedding models was the lack of access to high quality training data.  Generative LLMs can save you days/weeks of time, depending on how large of a dataset you want to create, by automating the process of generating high quality query/context pairs.  In this section we'll go over the step-by-step process of fine-tuning our `all-MiniLM-L6-v2` embedding model from a pre-generated training dataset consisting of only 300 question-context pairs, and then comparing it's retrieval results to our baseline retrieval scores.  I highly encourage trying this method out, I saw a 10+ point jump in `vector_hit_rate` after fine-tuning the baseline model.\n",
    "\n",
    "### Fine-tune Walkthrough\n",
    "\n",
    "1. Get baseline retrieval scores (vector Hit Rate, MRR, and total misses) using out-of-the-box baseline model.  You won't know objectively if fine-tuning had any effect if you don't measure the baseline results first.  I know this goes without saying it, but practitioners sometimes want to jump straight into model improvement without first considering their starting point.\n",
    "2. Collect a training and validation dataset.  This step has already been completed for you, courtesy of `gpt-3.5-turbo`.  LlamaIndex has a great out-of-the-box solution for generating query/context embedding pairs, but it isn't exactly plug and play, so I had to rewrite the function to achieve comptability for our course.  The training dataset consists of queries generated by the LLM that can be answered from the associated context (text chunk).  These pairs were generated using a prompt specifically written for the Impact Theory corpus so the training and validation data (for the most part) are high quality and contextually relevant. \n",
    "3. Instantiate a `SentenceTransformersFinetuneEngine` Class written by LlamaIndex which does a great job of abstracting away most of the details invovled in fine-tuning a Sentence Transformer model.\n",
    "4. Fit the model and set a path where the new model will reside.  I creaed a `models/` directory in the course repo, and included the directory in the `.gitignore` file so that models aren't being pushed with every commit.\n",
    "5. Create a new dataset (as you learned in Notebook 1) but this time create the embeddings using the new fine-tuned model.\n",
    "6. Create a new index on Weaviate using the new dataset you just created.\n",
    "7. Run the `retrieval_evaluation` function again, but this time instantiate your Weaviate client with the new fine-tuned model, but hold all other parameters constant (i.e. don't change any other parameter from the baseline run).\n",
    "8. Compare the fine-tuned retrieval results to the baseline results 🥳"
   ]
  },
  {
   "cell_type": "markdown",
   "id": "65048057-c7b1-4838-88d1-8717f2541fc6",
   "metadata": {},
   "source": [
    "### Import Training + Valid datasets"
   ]
  },
  {
   "cell_type": "code",
   "execution_count": 5,
   "id": "73235f35-982c-446b-bc2c-7decc6cb7145",
   "metadata": {},
   "outputs": [],
   "source": [
    "training_path = './data/training_data_300.json'\n",
    "valid_path = './data/validation_data_100.json'"
   ]
  },
  {
   "cell_type": "code",
   "execution_count": 8,
   "id": "62c71fbb-95f4-40bd-a76c-f136629e6acf",
   "metadata": {},
   "outputs": [
    {
     "data": {
      "text/html": [
       "<pre style=\"white-space:pre;overflow-x:auto;line-height:normal;font-family:Menlo,'DejaVu Sans Mono',consolas,'Courier New',monospace\"># Training Samples: <span style=\"color: #008080; text-decoration-color: #008080; font-weight: bold\">300</span>\n",
       "# Validation Samples: <span style=\"color: #008080; text-decoration-color: #008080; font-weight: bold\">100</span>\n",
       "</pre>\n"
      ],
      "text/plain": [
       "# Training Samples: \u001b[1;36m300\u001b[0m\n",
       "# Validation Samples: \u001b[1;36m100\u001b[0m\n"
      ]
     },
     "metadata": {},
     "output_type": "display_data"
    }
   ],
   "source": [
    "training_set = EmbeddingQAFinetuneDataset.from_json(training_path)\n",
    "valid_set = EmbeddingQAFinetuneDataset.from_json(valid_path)\n",
    "num_training_examples = len(training_set.queries)\n",
    "num_valid_examples = len(valid_set.queries)\n",
    "print(f'# Training Samples: {num_training_examples}\\n# Validation Samples: {num_valid_examples}')"
   ]
  },
  {
   "cell_type": "markdown",
   "id": "7407014d-ace1-4ab3-b62f-92dd0fad0246",
   "metadata": {},
   "source": [
    "### Wrangle Model output path"
   ]
  },
  {
   "cell_type": "code",
   "execution_count": 9,
   "id": "7b9c2eb1-f487-44be-894e-b5bf105c702d",
   "metadata": {},
   "outputs": [
    {
     "data": {
      "text/html": [
       "<pre style=\"white-space:pre;overflow-x:auto;line-height:normal;font-family:Menlo,'DejaVu Sans Mono',consolas,'Courier New',monospace\">Model ID: sentence-transformers/all-MiniLM-L6-v2\n",
       "</pre>\n"
      ],
      "text/plain": [
       "Model ID: sentence-transformers/all-MiniLM-L6-v2\n"
      ]
     },
     "metadata": {},
     "output_type": "display_data"
    },
    {
     "data": {
      "text/html": [
       "<pre style=\"white-space:pre;overflow-x:auto;line-height:normal;font-family:Menlo,'DejaVu Sans Mono',consolas,'Courier New',monospace\">Model Outpath: .<span style=\"color: #800080; text-decoration-color: #800080\">/models/</span><span style=\"color: #ff00ff; text-decoration-color: #ff00ff\">finetuned-all-MiniLM-L6-v2-300</span>\n",
       "</pre>\n"
      ],
      "text/plain": [
       "Model Outpath: .\u001b[35m/models/\u001b[0m\u001b[95mfinetuned-all-MiniLM-L6-v2-300\u001b[0m\n"
      ]
     },
     "metadata": {},
     "output_type": "display_data"
    }
   ],
   "source": [
    "#always a good idea to name your fine-tuned so that you can easily identify it,\n",
    "#especially if you plan on doing multiple training runs with different params\n",
    "#also probably a good idea to include the # of training samples you are using in the name\n",
    "\n",
    "model_id = client.model_name_or_path\n",
    "model_ext = model_id.split('/')[1]\n",
    "models_dir = './models'\n",
    "if not os.path.exists('./models'):\n",
    "    os.makedirs('./models') \n",
    "else:\n",
    "    print(f'{models_dir} already exists')\n",
    "ft_model_name = f'finetuned-{model_ext}-{num_training_examples}'\n",
    "model_outpath = os.path.join(models_dir, ft_model_name)\n",
    "\n",
    "print(f'Model ID: {model_id}')\n",
    "print(f'Model Outpath: {model_outpath}')"
   ]
  },
  {
   "cell_type": "markdown",
   "id": "ce4f8049-27d8-49fd-be18-360d3d8c6acb",
   "metadata": {},
   "source": [
    "### Instantiate your Fine-tune engine"
   ]
  },
  {
   "cell_type": "code",
   "execution_count": 10,
   "id": "f118bf22-9c0d-47ad-aa83-e7f61ce07a7e",
   "metadata": {},
   "outputs": [],
   "source": [
    "from llama_index.finetuning import SentenceTransformersFinetuneEngine\n",
    "\n",
    "finetune_engine = SentenceTransformersFinetuneEngine(\n",
    "    training_set,\n",
    "    batch_size=32,\n",
    "    model_id=model_id,\n",
    "    model_output_path=model_outpath,\n",
    "    val_dataset=valid_set,\n",
    "    epochs=10\n",
    ")"
   ]
  },
  {
   "cell_type": "markdown",
   "id": "d2aaa840-de9e-4e17-8a9d-7c412cd873bb",
   "metadata": {},
   "source": [
    "### Fit the embedding model"
   ]
  },
  {
   "cell_type": "code",
   "execution_count": null,
   "id": "5068ae60-3a73-4170-9310-4c74f9cd9563",
   "metadata": {},
   "outputs": [],
   "source": [
    "finetune_engine.finetune()"
   ]
  },
  {
   "cell_type": "markdown",
   "id": "e08e8aad-5a91-4c25-ab85-f1af821b250c",
   "metadata": {},
   "source": [
    "The `finetune` method will automatically generate the model directory using the `model_output_path` that you define.  Inside the directory will be a copy of the model itself (`pytorch_model.bin`) along with all the other files it needs.  Also in that folder, assuming you provide a `val_dataset` will be an evaluation report in the `eval` directory.  The evaluation report contains several IR metrics that may or may not be useful to you, but it does allow you to compare score improvements with each training epoch.  The new fine-tuned model is loaded through the `SentenceTransformer` class just like any other HuggingFace repo model. "
   ]
  },
  {
   "cell_type": "markdown",
   "id": "a74371ee-901b-46e5-8cdb-dfd5fc7d9b91",
   "metadata": {},
   "source": [
    "### Instantiate Weviate Client"
   ]
  },
  {
   "cell_type": "code",
   "execution_count": 6,
   "id": "21fbf54b-b9b8-4162-bdda-bfa3bc14fe3a",
   "metadata": {
    "ExecuteTime": {
     "end_time": "2023-12-09T11:16:51.111694Z",
     "start_time": "2023-12-09T11:13:45.803190Z"
    }
   },
   "outputs": [
    {
     "data": {
      "text/plain": [
       "(True, True)"
      ]
     },
     "execution_count": 6,
     "metadata": {},
     "output_type": "execute_result"
    }
   ],
   "source": [
    "#read env vars from local .env file\n",
    "api_key = os.environ['WEAVIATE_API_KEY']\n",
    "url = os.environ['WEAVIATE_ENDPOINT']\n",
    "\n",
    "#instantiate client\n",
    "client = WeaviateClient(api_key, url, model_name_or_path='./models/finetuned-all-MiniLM-L6-v2-300')\n",
    "\n",
    "#check if WCS instance is live and ready\n",
    "client.is_live(), client.is_ready()"
   ]
  },
  {
   "cell_type": "code",
   "execution_count": 7,
   "id": "a51bd31b-6c06-4c0e-8942-0b4db047db45",
   "metadata": {},
   "outputs": [
    {
     "data": {
      "text/plain": [
       "True"
      ]
     },
     "execution_count": 7,
     "metadata": {},
     "output_type": "execute_result"
    }
   ],
   "source": [
    "client.schema.exists(class_name)"
   ]
  },
  {
   "cell_type": "markdown",
   "id": "092658b8-2b41-41c8-8ba8-ebe6170f84b4",
   "metadata": {},
   "source": [
    "### Load Saved Data from Disk (from previous notebook)"
   ]
  },
  {
   "cell_type": "code",
   "execution_count": 9,
   "id": "7ce33f93-8a9c-4f14-a46b-9b92be303abf",
   "metadata": {
    "ExecuteTime": {
     "end_time": "2023-12-09T11:17:18.604285Z",
     "start_time": "2023-12-09T11:17:17.206153Z"
    }
   },
   "outputs": [
    {
     "name": "stdout",
     "output_type": "stream",
     "text": [
      "Shape of data: (26448, 12)\n",
      "Memory Usage: 2.42+ MB\n"
     ]
    }
   ],
   "source": [
    "from preprocessing import FileIO\n",
    "data_path = \"./data/impact-theory-minilmL6-256.parquet\"\n",
    "\n",
    "data = FileIO().load_parquet(data_path)"
   ]
  },
  {
   "cell_type": "code",
   "execution_count": 10,
   "id": "65ba8833-d58d-4b32-b0da-aa4302a3a5f9",
   "metadata": {},
   "outputs": [
    {
     "data": {
      "text/html": [
       "<pre style=\"white-space:pre;overflow-x:auto;line-height:normal;font-family:Menlo,'DejaVu Sans Mono',consolas,'Courier New',monospace\"><span style=\"font-weight: bold\">[</span>\n",
       "    <span style=\"font-weight: bold\">{</span><span style=\"color: #008000; text-decoration-color: #008000\">'name'</span>: <span style=\"color: #008000; text-decoration-color: #008000\">'title'</span>, <span style=\"color: #008000; text-decoration-color: #008000\">'dataType'</span>: <span style=\"font-weight: bold\">[</span><span style=\"color: #008000; text-decoration-color: #008000\">'text'</span><span style=\"font-weight: bold\">]</span>, <span style=\"color: #008000; text-decoration-color: #008000\">'indexFilterable'</span>: <span style=\"color: #00ff00; text-decoration-color: #00ff00; font-style: italic\">True</span>, <span style=\"color: #008000; text-decoration-color: #008000\">'indexSearchable'</span>: <span style=\"color: #00ff00; text-decoration-color: #00ff00; font-style: italic\">True</span><span style=\"font-weight: bold\">}</span>,\n",
       "    <span style=\"font-weight: bold\">{</span><span style=\"color: #008000; text-decoration-color: #008000\">'name'</span>: <span style=\"color: #008000; text-decoration-color: #008000\">'video_id'</span>, <span style=\"color: #008000; text-decoration-color: #008000\">'dataType'</span>: <span style=\"font-weight: bold\">[</span><span style=\"color: #008000; text-decoration-color: #008000\">'text'</span><span style=\"font-weight: bold\">]</span>, <span style=\"color: #008000; text-decoration-color: #008000\">'indexFilterable'</span>: <span style=\"color: #00ff00; text-decoration-color: #00ff00; font-style: italic\">True</span>, <span style=\"color: #008000; text-decoration-color: #008000\">'indexSearchable'</span>: <span style=\"color: #ff0000; text-decoration-color: #ff0000; font-style: italic\">False</span><span style=\"font-weight: bold\">}</span>,\n",
       "    <span style=\"font-weight: bold\">{</span><span style=\"color: #008000; text-decoration-color: #008000\">'name'</span>: <span style=\"color: #008000; text-decoration-color: #008000\">'length'</span>, <span style=\"color: #008000; text-decoration-color: #008000\">'dataType'</span>: <span style=\"font-weight: bold\">[</span><span style=\"color: #008000; text-decoration-color: #008000\">'int'</span><span style=\"font-weight: bold\">]</span>, <span style=\"color: #008000; text-decoration-color: #008000\">'indexFilterable'</span>: <span style=\"color: #00ff00; text-decoration-color: #00ff00; font-style: italic\">True</span>, <span style=\"color: #008000; text-decoration-color: #008000\">'indexSearchable'</span>: <span style=\"color: #ff0000; text-decoration-color: #ff0000; font-style: italic\">False</span><span style=\"font-weight: bold\">}</span>,\n",
       "    <span style=\"font-weight: bold\">{</span><span style=\"color: #008000; text-decoration-color: #008000\">'name'</span>: <span style=\"color: #008000; text-decoration-color: #008000\">'thumbnail_url'</span>, <span style=\"color: #008000; text-decoration-color: #008000\">'dataType'</span>: <span style=\"font-weight: bold\">[</span><span style=\"color: #008000; text-decoration-color: #008000\">'text'</span><span style=\"font-weight: bold\">]</span>, <span style=\"color: #008000; text-decoration-color: #008000\">'indexFilterable'</span>: <span style=\"color: #ff0000; text-decoration-color: #ff0000; font-style: italic\">False</span>, <span style=\"color: #008000; text-decoration-color: #008000\">'indexSearchable'</span>: <span style=\"color: #ff0000; text-decoration-color: #ff0000; font-style: italic\">False</span><span style=\"font-weight: bold\">}</span>,\n",
       "    <span style=\"font-weight: bold\">{</span><span style=\"color: #008000; text-decoration-color: #008000\">'name'</span>: <span style=\"color: #008000; text-decoration-color: #008000\">'views'</span>, <span style=\"color: #008000; text-decoration-color: #008000\">'dataType'</span>: <span style=\"font-weight: bold\">[</span><span style=\"color: #008000; text-decoration-color: #008000\">'int'</span><span style=\"font-weight: bold\">]</span>, <span style=\"color: #008000; text-decoration-color: #008000\">'indexFilterable'</span>: <span style=\"color: #00ff00; text-decoration-color: #00ff00; font-style: italic\">True</span>, <span style=\"color: #008000; text-decoration-color: #008000\">'indexSearchable'</span>: <span style=\"color: #ff0000; text-decoration-color: #ff0000; font-style: italic\">False</span><span style=\"font-weight: bold\">}</span>,\n",
       "    <span style=\"font-weight: bold\">{</span><span style=\"color: #008000; text-decoration-color: #008000\">'name'</span>: <span style=\"color: #008000; text-decoration-color: #008000\">'episode_url'</span>, <span style=\"color: #008000; text-decoration-color: #008000\">'dataType'</span>: <span style=\"font-weight: bold\">[</span><span style=\"color: #008000; text-decoration-color: #008000\">'text'</span><span style=\"font-weight: bold\">]</span>, <span style=\"color: #008000; text-decoration-color: #008000\">'indexFilterable'</span>: <span style=\"color: #ff0000; text-decoration-color: #ff0000; font-style: italic\">False</span>, <span style=\"color: #008000; text-decoration-color: #008000\">'indexSearchable'</span>: <span style=\"color: #ff0000; text-decoration-color: #ff0000; font-style: italic\">False</span><span style=\"font-weight: bold\">}</span>,\n",
       "    <span style=\"font-weight: bold\">{</span><span style=\"color: #008000; text-decoration-color: #008000\">'name'</span>: <span style=\"color: #008000; text-decoration-color: #008000\">'doc_id'</span>, <span style=\"color: #008000; text-decoration-color: #008000\">'dataType'</span>: <span style=\"font-weight: bold\">[</span><span style=\"color: #008000; text-decoration-color: #008000\">'text'</span><span style=\"font-weight: bold\">]</span>, <span style=\"color: #008000; text-decoration-color: #008000\">'indexFilterable'</span>: <span style=\"color: #00ff00; text-decoration-color: #00ff00; font-style: italic\">True</span>, <span style=\"color: #008000; text-decoration-color: #008000\">'indexSearchable'</span>: <span style=\"color: #ff0000; text-decoration-color: #ff0000; font-style: italic\">False</span><span style=\"font-weight: bold\">}</span>,\n",
       "    <span style=\"font-weight: bold\">{</span><span style=\"color: #008000; text-decoration-color: #008000\">'name'</span>: <span style=\"color: #008000; text-decoration-color: #008000\">'guest'</span>, <span style=\"color: #008000; text-decoration-color: #008000\">'dataType'</span>: <span style=\"font-weight: bold\">[</span><span style=\"color: #008000; text-decoration-color: #008000\">'text'</span><span style=\"font-weight: bold\">]</span>, <span style=\"color: #008000; text-decoration-color: #008000\">'indexFilterable'</span>: <span style=\"color: #00ff00; text-decoration-color: #00ff00; font-style: italic\">True</span>, <span style=\"color: #008000; text-decoration-color: #008000\">'indexSearchable'</span>: <span style=\"color: #00ff00; text-decoration-color: #00ff00; font-style: italic\">True</span><span style=\"font-weight: bold\">}</span>,\n",
       "    <span style=\"font-weight: bold\">{</span><span style=\"color: #008000; text-decoration-color: #008000\">'name'</span>: <span style=\"color: #008000; text-decoration-color: #008000\">'summary'</span>, <span style=\"color: #008000; text-decoration-color: #008000\">'dataType'</span>: <span style=\"font-weight: bold\">[</span><span style=\"color: #008000; text-decoration-color: #008000\">'text'</span><span style=\"font-weight: bold\">]</span>, <span style=\"color: #008000; text-decoration-color: #008000\">'indexFilterable'</span>: <span style=\"color: #ff0000; text-decoration-color: #ff0000; font-style: italic\">False</span>, <span style=\"color: #008000; text-decoration-color: #008000\">'indexSearchable'</span>: <span style=\"color: #00ff00; text-decoration-color: #00ff00; font-style: italic\">True</span><span style=\"font-weight: bold\">}</span>,\n",
       "    <span style=\"font-weight: bold\">{</span><span style=\"color: #008000; text-decoration-color: #008000\">'name'</span>: <span style=\"color: #008000; text-decoration-color: #008000\">'content'</span>, <span style=\"color: #008000; text-decoration-color: #008000\">'dataType'</span>: <span style=\"font-weight: bold\">[</span><span style=\"color: #008000; text-decoration-color: #008000\">'text'</span><span style=\"font-weight: bold\">]</span>, <span style=\"color: #008000; text-decoration-color: #008000\">'indexFilterable'</span>: <span style=\"color: #ff0000; text-decoration-color: #ff0000; font-style: italic\">False</span>, <span style=\"color: #008000; text-decoration-color: #008000\">'indexSearchable'</span>: <span style=\"color: #00ff00; text-decoration-color: #00ff00; font-style: italic\">True</span><span style=\"font-weight: bold\">}</span>\n",
       "<span style=\"font-weight: bold\">]</span>\n",
       "</pre>\n"
      ],
      "text/plain": [
       "\u001b[1m[\u001b[0m\n",
       "    \u001b[1m{\u001b[0m\u001b[32m'name'\u001b[0m: \u001b[32m'title'\u001b[0m, \u001b[32m'dataType'\u001b[0m: \u001b[1m[\u001b[0m\u001b[32m'text'\u001b[0m\u001b[1m]\u001b[0m, \u001b[32m'indexFilterable'\u001b[0m: \u001b[3;92mTrue\u001b[0m, \u001b[32m'indexSearchable'\u001b[0m: \u001b[3;92mTrue\u001b[0m\u001b[1m}\u001b[0m,\n",
       "    \u001b[1m{\u001b[0m\u001b[32m'name'\u001b[0m: \u001b[32m'video_id'\u001b[0m, \u001b[32m'dataType'\u001b[0m: \u001b[1m[\u001b[0m\u001b[32m'text'\u001b[0m\u001b[1m]\u001b[0m, \u001b[32m'indexFilterable'\u001b[0m: \u001b[3;92mTrue\u001b[0m, \u001b[32m'indexSearchable'\u001b[0m: \u001b[3;91mFalse\u001b[0m\u001b[1m}\u001b[0m,\n",
       "    \u001b[1m{\u001b[0m\u001b[32m'name'\u001b[0m: \u001b[32m'length'\u001b[0m, \u001b[32m'dataType'\u001b[0m: \u001b[1m[\u001b[0m\u001b[32m'int'\u001b[0m\u001b[1m]\u001b[0m, \u001b[32m'indexFilterable'\u001b[0m: \u001b[3;92mTrue\u001b[0m, \u001b[32m'indexSearchable'\u001b[0m: \u001b[3;91mFalse\u001b[0m\u001b[1m}\u001b[0m,\n",
       "    \u001b[1m{\u001b[0m\u001b[32m'name'\u001b[0m: \u001b[32m'thumbnail_url'\u001b[0m, \u001b[32m'dataType'\u001b[0m: \u001b[1m[\u001b[0m\u001b[32m'text'\u001b[0m\u001b[1m]\u001b[0m, \u001b[32m'indexFilterable'\u001b[0m: \u001b[3;91mFalse\u001b[0m, \u001b[32m'indexSearchable'\u001b[0m: \u001b[3;91mFalse\u001b[0m\u001b[1m}\u001b[0m,\n",
       "    \u001b[1m{\u001b[0m\u001b[32m'name'\u001b[0m: \u001b[32m'views'\u001b[0m, \u001b[32m'dataType'\u001b[0m: \u001b[1m[\u001b[0m\u001b[32m'int'\u001b[0m\u001b[1m]\u001b[0m, \u001b[32m'indexFilterable'\u001b[0m: \u001b[3;92mTrue\u001b[0m, \u001b[32m'indexSearchable'\u001b[0m: \u001b[3;91mFalse\u001b[0m\u001b[1m}\u001b[0m,\n",
       "    \u001b[1m{\u001b[0m\u001b[32m'name'\u001b[0m: \u001b[32m'episode_url'\u001b[0m, \u001b[32m'dataType'\u001b[0m: \u001b[1m[\u001b[0m\u001b[32m'text'\u001b[0m\u001b[1m]\u001b[0m, \u001b[32m'indexFilterable'\u001b[0m: \u001b[3;91mFalse\u001b[0m, \u001b[32m'indexSearchable'\u001b[0m: \u001b[3;91mFalse\u001b[0m\u001b[1m}\u001b[0m,\n",
       "    \u001b[1m{\u001b[0m\u001b[32m'name'\u001b[0m: \u001b[32m'doc_id'\u001b[0m, \u001b[32m'dataType'\u001b[0m: \u001b[1m[\u001b[0m\u001b[32m'text'\u001b[0m\u001b[1m]\u001b[0m, \u001b[32m'indexFilterable'\u001b[0m: \u001b[3;92mTrue\u001b[0m, \u001b[32m'indexSearchable'\u001b[0m: \u001b[3;91mFalse\u001b[0m\u001b[1m}\u001b[0m,\n",
       "    \u001b[1m{\u001b[0m\u001b[32m'name'\u001b[0m: \u001b[32m'guest'\u001b[0m, \u001b[32m'dataType'\u001b[0m: \u001b[1m[\u001b[0m\u001b[32m'text'\u001b[0m\u001b[1m]\u001b[0m, \u001b[32m'indexFilterable'\u001b[0m: \u001b[3;92mTrue\u001b[0m, \u001b[32m'indexSearchable'\u001b[0m: \u001b[3;92mTrue\u001b[0m\u001b[1m}\u001b[0m,\n",
       "    \u001b[1m{\u001b[0m\u001b[32m'name'\u001b[0m: \u001b[32m'summary'\u001b[0m, \u001b[32m'dataType'\u001b[0m: \u001b[1m[\u001b[0m\u001b[32m'text'\u001b[0m\u001b[1m]\u001b[0m, \u001b[32m'indexFilterable'\u001b[0m: \u001b[3;91mFalse\u001b[0m, \u001b[32m'indexSearchable'\u001b[0m: \u001b[3;92mTrue\u001b[0m\u001b[1m}\u001b[0m,\n",
       "    \u001b[1m{\u001b[0m\u001b[32m'name'\u001b[0m: \u001b[32m'content'\u001b[0m, \u001b[32m'dataType'\u001b[0m: \u001b[1m[\u001b[0m\u001b[32m'text'\u001b[0m\u001b[1m]\u001b[0m, \u001b[32m'indexFilterable'\u001b[0m: \u001b[3;91mFalse\u001b[0m, \u001b[32m'indexSearchable'\u001b[0m: \u001b[3;92mTrue\u001b[0m\u001b[1m}\u001b[0m\n",
       "\u001b[1m]\u001b[0m\n"
      ]
     },
     "metadata": {},
     "output_type": "display_data"
    }
   ],
   "source": [
    "# import the impact_theory_class_properties defintion from the class_templates.py file \n",
    "from class_templates import impact_theory_class_properties\n",
    "\n",
    "##############\n",
    "# START CODE #\n",
    "##############\n",
    "\n",
    "# Printing the imported schema\n",
    "print(impact_theory_class_properties)"
   ]
  },
  {
   "cell_type": "code",
   "execution_count": 11,
   "id": "d72736b5-b441-4618-9b60-b60f71d38f73",
   "metadata": {},
   "outputs": [],
   "source": [
    "#create your own class name or use the example from above\n",
    "class_name = \"Impact_theory_minilm_256_finetuned\""
   ]
  },
  {
   "cell_type": "code",
   "execution_count": 12,
   "id": "2d13ffa1-873f-41b2-88bc-067461b2d98a",
   "metadata": {},
   "outputs": [],
   "source": [
    "#Review Indexing Body\n",
    "class_config = {'classes': [\n",
    "\n",
    "                      {\"class\": class_name,        \n",
    "                       \n",
    "                       \"description\": \"Episodes of Impact Theory up to Nov 2023\", \n",
    "                       \n",
    "                       \"vectorIndexType\": \"hnsw\", \n",
    "                       \n",
    "                       # Vector index specific settings\n",
    "                       \"vectorIndexConfig\": {                   \n",
    "                          \n",
    "                            \"ef\": 64,\n",
    "                            \"efConstruction\": 128, \n",
    "                            \"maxConnections\": 32,    \n",
    "                                            },\n",
    "                       \n",
    "                       \"vectorizer\": \"none\",            \n",
    "                       \n",
    "                       # pre-defined property mappings\n",
    "                       \"properties\": impact_theory_class_properties }         \n",
    "                      ]\n",
    "               }"
   ]
  },
  {
   "cell_type": "code",
   "execution_count": 13,
   "id": "34022e8d-8465-4fa2-ac8b-a67288cbcdc2",
   "metadata": {},
   "outputs": [
    {
     "data": {
      "text/html": [
       "<pre style=\"white-space:pre;overflow-x:auto;line-height:normal;font-family:Menlo,'DejaVu Sans Mono',consolas,'Courier New',monospace\"><span style=\"font-weight: bold\">{</span>\n",
       "    <span style=\"color: #008000; text-decoration-color: #008000\">'classes'</span>: <span style=\"font-weight: bold\">[</span>\n",
       "        <span style=\"font-weight: bold\">{</span>\n",
       "            <span style=\"color: #008000; text-decoration-color: #008000\">'class'</span>: <span style=\"color: #008000; text-decoration-color: #008000\">'Impact_theory_minilm_256_finetuned'</span>,\n",
       "            <span style=\"color: #008000; text-decoration-color: #008000\">'description'</span>: <span style=\"color: #008000; text-decoration-color: #008000\">'Episodes of Impact Theory up to Nov 2023'</span>,\n",
       "            <span style=\"color: #008000; text-decoration-color: #008000\">'vectorIndexType'</span>: <span style=\"color: #008000; text-decoration-color: #008000\">'hnsw'</span>,\n",
       "            <span style=\"color: #008000; text-decoration-color: #008000\">'vectorIndexConfig'</span>: <span style=\"font-weight: bold\">{</span><span style=\"color: #008000; text-decoration-color: #008000\">'ef'</span>: <span style=\"color: #008080; text-decoration-color: #008080; font-weight: bold\">64</span>, <span style=\"color: #008000; text-decoration-color: #008000\">'efConstruction'</span>: <span style=\"color: #008080; text-decoration-color: #008080; font-weight: bold\">128</span>, <span style=\"color: #008000; text-decoration-color: #008000\">'maxConnections'</span>: <span style=\"color: #008080; text-decoration-color: #008080; font-weight: bold\">32</span><span style=\"font-weight: bold\">}</span>,\n",
       "            <span style=\"color: #008000; text-decoration-color: #008000\">'vectorizer'</span>: <span style=\"color: #008000; text-decoration-color: #008000\">'none'</span>,\n",
       "            <span style=\"color: #008000; text-decoration-color: #008000\">'properties'</span>: <span style=\"font-weight: bold\">[</span>\n",
       "                <span style=\"font-weight: bold\">{</span><span style=\"color: #008000; text-decoration-color: #008000\">'name'</span>: <span style=\"color: #008000; text-decoration-color: #008000\">'title'</span>, <span style=\"color: #008000; text-decoration-color: #008000\">'dataType'</span>: <span style=\"font-weight: bold\">[</span><span style=\"color: #008000; text-decoration-color: #008000\">'text'</span><span style=\"font-weight: bold\">]</span>, <span style=\"color: #008000; text-decoration-color: #008000\">'indexFilterable'</span>: <span style=\"color: #00ff00; text-decoration-color: #00ff00; font-style: italic\">True</span>, <span style=\"color: #008000; text-decoration-color: #008000\">'indexSearchable'</span>: <span style=\"color: #00ff00; text-decoration-color: #00ff00; font-style: italic\">True</span><span style=\"font-weight: bold\">}</span>,\n",
       "                <span style=\"font-weight: bold\">{</span><span style=\"color: #008000; text-decoration-color: #008000\">'name'</span>: <span style=\"color: #008000; text-decoration-color: #008000\">'video_id'</span>, <span style=\"color: #008000; text-decoration-color: #008000\">'dataType'</span>: <span style=\"font-weight: bold\">[</span><span style=\"color: #008000; text-decoration-color: #008000\">'text'</span><span style=\"font-weight: bold\">]</span>, <span style=\"color: #008000; text-decoration-color: #008000\">'indexFilterable'</span>: <span style=\"color: #00ff00; text-decoration-color: #00ff00; font-style: italic\">True</span>, <span style=\"color: #008000; text-decoration-color: #008000\">'indexSearchable'</span>: <span style=\"color: #ff0000; text-decoration-color: #ff0000; font-style: italic\">False</span><span style=\"font-weight: bold\">}</span>,\n",
       "                <span style=\"font-weight: bold\">{</span><span style=\"color: #008000; text-decoration-color: #008000\">'name'</span>: <span style=\"color: #008000; text-decoration-color: #008000\">'length'</span>, <span style=\"color: #008000; text-decoration-color: #008000\">'dataType'</span>: <span style=\"font-weight: bold\">[</span><span style=\"color: #008000; text-decoration-color: #008000\">'int'</span><span style=\"font-weight: bold\">]</span>, <span style=\"color: #008000; text-decoration-color: #008000\">'indexFilterable'</span>: <span style=\"color: #00ff00; text-decoration-color: #00ff00; font-style: italic\">True</span>, <span style=\"color: #008000; text-decoration-color: #008000\">'indexSearchable'</span>: <span style=\"color: #ff0000; text-decoration-color: #ff0000; font-style: italic\">False</span><span style=\"font-weight: bold\">}</span>,\n",
       "                <span style=\"font-weight: bold\">{</span>\n",
       "                    <span style=\"color: #008000; text-decoration-color: #008000\">'name'</span>: <span style=\"color: #008000; text-decoration-color: #008000\">'thumbnail_url'</span>,\n",
       "                    <span style=\"color: #008000; text-decoration-color: #008000\">'dataType'</span>: <span style=\"font-weight: bold\">[</span><span style=\"color: #008000; text-decoration-color: #008000\">'text'</span><span style=\"font-weight: bold\">]</span>,\n",
       "                    <span style=\"color: #008000; text-decoration-color: #008000\">'indexFilterable'</span>: <span style=\"color: #ff0000; text-decoration-color: #ff0000; font-style: italic\">False</span>,\n",
       "                    <span style=\"color: #008000; text-decoration-color: #008000\">'indexSearchable'</span>: <span style=\"color: #ff0000; text-decoration-color: #ff0000; font-style: italic\">False</span>\n",
       "                <span style=\"font-weight: bold\">}</span>,\n",
       "                <span style=\"font-weight: bold\">{</span><span style=\"color: #008000; text-decoration-color: #008000\">'name'</span>: <span style=\"color: #008000; text-decoration-color: #008000\">'views'</span>, <span style=\"color: #008000; text-decoration-color: #008000\">'dataType'</span>: <span style=\"font-weight: bold\">[</span><span style=\"color: #008000; text-decoration-color: #008000\">'int'</span><span style=\"font-weight: bold\">]</span>, <span style=\"color: #008000; text-decoration-color: #008000\">'indexFilterable'</span>: <span style=\"color: #00ff00; text-decoration-color: #00ff00; font-style: italic\">True</span>, <span style=\"color: #008000; text-decoration-color: #008000\">'indexSearchable'</span>: <span style=\"color: #ff0000; text-decoration-color: #ff0000; font-style: italic\">False</span><span style=\"font-weight: bold\">}</span>,\n",
       "                <span style=\"font-weight: bold\">{</span><span style=\"color: #008000; text-decoration-color: #008000\">'name'</span>: <span style=\"color: #008000; text-decoration-color: #008000\">'episode_url'</span>, <span style=\"color: #008000; text-decoration-color: #008000\">'dataType'</span>: <span style=\"font-weight: bold\">[</span><span style=\"color: #008000; text-decoration-color: #008000\">'text'</span><span style=\"font-weight: bold\">]</span>, <span style=\"color: #008000; text-decoration-color: #008000\">'indexFilterable'</span>: <span style=\"color: #ff0000; text-decoration-color: #ff0000; font-style: italic\">False</span>, <span style=\"color: #008000; text-decoration-color: #008000\">'indexSearchable'</span>: <span style=\"color: #ff0000; text-decoration-color: #ff0000; font-style: italic\">False</span><span style=\"font-weight: bold\">}</span>,\n",
       "                <span style=\"font-weight: bold\">{</span><span style=\"color: #008000; text-decoration-color: #008000\">'name'</span>: <span style=\"color: #008000; text-decoration-color: #008000\">'doc_id'</span>, <span style=\"color: #008000; text-decoration-color: #008000\">'dataType'</span>: <span style=\"font-weight: bold\">[</span><span style=\"color: #008000; text-decoration-color: #008000\">'text'</span><span style=\"font-weight: bold\">]</span>, <span style=\"color: #008000; text-decoration-color: #008000\">'indexFilterable'</span>: <span style=\"color: #00ff00; text-decoration-color: #00ff00; font-style: italic\">True</span>, <span style=\"color: #008000; text-decoration-color: #008000\">'indexSearchable'</span>: <span style=\"color: #ff0000; text-decoration-color: #ff0000; font-style: italic\">False</span><span style=\"font-weight: bold\">}</span>,\n",
       "                <span style=\"font-weight: bold\">{</span><span style=\"color: #008000; text-decoration-color: #008000\">'name'</span>: <span style=\"color: #008000; text-decoration-color: #008000\">'guest'</span>, <span style=\"color: #008000; text-decoration-color: #008000\">'dataType'</span>: <span style=\"font-weight: bold\">[</span><span style=\"color: #008000; text-decoration-color: #008000\">'text'</span><span style=\"font-weight: bold\">]</span>, <span style=\"color: #008000; text-decoration-color: #008000\">'indexFilterable'</span>: <span style=\"color: #00ff00; text-decoration-color: #00ff00; font-style: italic\">True</span>, <span style=\"color: #008000; text-decoration-color: #008000\">'indexSearchable'</span>: <span style=\"color: #00ff00; text-decoration-color: #00ff00; font-style: italic\">True</span><span style=\"font-weight: bold\">}</span>,\n",
       "                <span style=\"font-weight: bold\">{</span><span style=\"color: #008000; text-decoration-color: #008000\">'name'</span>: <span style=\"color: #008000; text-decoration-color: #008000\">'summary'</span>, <span style=\"color: #008000; text-decoration-color: #008000\">'dataType'</span>: <span style=\"font-weight: bold\">[</span><span style=\"color: #008000; text-decoration-color: #008000\">'text'</span><span style=\"font-weight: bold\">]</span>, <span style=\"color: #008000; text-decoration-color: #008000\">'indexFilterable'</span>: <span style=\"color: #ff0000; text-decoration-color: #ff0000; font-style: italic\">False</span>, <span style=\"color: #008000; text-decoration-color: #008000\">'indexSearchable'</span>: <span style=\"color: #00ff00; text-decoration-color: #00ff00; font-style: italic\">True</span><span style=\"font-weight: bold\">}</span>,\n",
       "                <span style=\"font-weight: bold\">{</span><span style=\"color: #008000; text-decoration-color: #008000\">'name'</span>: <span style=\"color: #008000; text-decoration-color: #008000\">'content'</span>, <span style=\"color: #008000; text-decoration-color: #008000\">'dataType'</span>: <span style=\"font-weight: bold\">[</span><span style=\"color: #008000; text-decoration-color: #008000\">'text'</span><span style=\"font-weight: bold\">]</span>, <span style=\"color: #008000; text-decoration-color: #008000\">'indexFilterable'</span>: <span style=\"color: #ff0000; text-decoration-color: #ff0000; font-style: italic\">False</span>, <span style=\"color: #008000; text-decoration-color: #008000\">'indexSearchable'</span>: <span style=\"color: #00ff00; text-decoration-color: #00ff00; font-style: italic\">True</span><span style=\"font-weight: bold\">}</span>\n",
       "            <span style=\"font-weight: bold\">]</span>\n",
       "        <span style=\"font-weight: bold\">}</span>\n",
       "    <span style=\"font-weight: bold\">]</span>\n",
       "<span style=\"font-weight: bold\">}</span>\n",
       "</pre>\n"
      ],
      "text/plain": [
       "\u001b[1m{\u001b[0m\n",
       "    \u001b[32m'classes'\u001b[0m: \u001b[1m[\u001b[0m\n",
       "        \u001b[1m{\u001b[0m\n",
       "            \u001b[32m'class'\u001b[0m: \u001b[32m'Impact_theory_minilm_256_finetuned'\u001b[0m,\n",
       "            \u001b[32m'description'\u001b[0m: \u001b[32m'Episodes of Impact Theory up to Nov 2023'\u001b[0m,\n",
       "            \u001b[32m'vectorIndexType'\u001b[0m: \u001b[32m'hnsw'\u001b[0m,\n",
       "            \u001b[32m'vectorIndexConfig'\u001b[0m: \u001b[1m{\u001b[0m\u001b[32m'ef'\u001b[0m: \u001b[1;36m64\u001b[0m, \u001b[32m'efConstruction'\u001b[0m: \u001b[1;36m128\u001b[0m, \u001b[32m'maxConnections'\u001b[0m: \u001b[1;36m32\u001b[0m\u001b[1m}\u001b[0m,\n",
       "            \u001b[32m'vectorizer'\u001b[0m: \u001b[32m'none'\u001b[0m,\n",
       "            \u001b[32m'properties'\u001b[0m: \u001b[1m[\u001b[0m\n",
       "                \u001b[1m{\u001b[0m\u001b[32m'name'\u001b[0m: \u001b[32m'title'\u001b[0m, \u001b[32m'dataType'\u001b[0m: \u001b[1m[\u001b[0m\u001b[32m'text'\u001b[0m\u001b[1m]\u001b[0m, \u001b[32m'indexFilterable'\u001b[0m: \u001b[3;92mTrue\u001b[0m, \u001b[32m'indexSearchable'\u001b[0m: \u001b[3;92mTrue\u001b[0m\u001b[1m}\u001b[0m,\n",
       "                \u001b[1m{\u001b[0m\u001b[32m'name'\u001b[0m: \u001b[32m'video_id'\u001b[0m, \u001b[32m'dataType'\u001b[0m: \u001b[1m[\u001b[0m\u001b[32m'text'\u001b[0m\u001b[1m]\u001b[0m, \u001b[32m'indexFilterable'\u001b[0m: \u001b[3;92mTrue\u001b[0m, \u001b[32m'indexSearchable'\u001b[0m: \u001b[3;91mFalse\u001b[0m\u001b[1m}\u001b[0m,\n",
       "                \u001b[1m{\u001b[0m\u001b[32m'name'\u001b[0m: \u001b[32m'length'\u001b[0m, \u001b[32m'dataType'\u001b[0m: \u001b[1m[\u001b[0m\u001b[32m'int'\u001b[0m\u001b[1m]\u001b[0m, \u001b[32m'indexFilterable'\u001b[0m: \u001b[3;92mTrue\u001b[0m, \u001b[32m'indexSearchable'\u001b[0m: \u001b[3;91mFalse\u001b[0m\u001b[1m}\u001b[0m,\n",
       "                \u001b[1m{\u001b[0m\n",
       "                    \u001b[32m'name'\u001b[0m: \u001b[32m'thumbnail_url'\u001b[0m,\n",
       "                    \u001b[32m'dataType'\u001b[0m: \u001b[1m[\u001b[0m\u001b[32m'text'\u001b[0m\u001b[1m]\u001b[0m,\n",
       "                    \u001b[32m'indexFilterable'\u001b[0m: \u001b[3;91mFalse\u001b[0m,\n",
       "                    \u001b[32m'indexSearchable'\u001b[0m: \u001b[3;91mFalse\u001b[0m\n",
       "                \u001b[1m}\u001b[0m,\n",
       "                \u001b[1m{\u001b[0m\u001b[32m'name'\u001b[0m: \u001b[32m'views'\u001b[0m, \u001b[32m'dataType'\u001b[0m: \u001b[1m[\u001b[0m\u001b[32m'int'\u001b[0m\u001b[1m]\u001b[0m, \u001b[32m'indexFilterable'\u001b[0m: \u001b[3;92mTrue\u001b[0m, \u001b[32m'indexSearchable'\u001b[0m: \u001b[3;91mFalse\u001b[0m\u001b[1m}\u001b[0m,\n",
       "                \u001b[1m{\u001b[0m\u001b[32m'name'\u001b[0m: \u001b[32m'episode_url'\u001b[0m, \u001b[32m'dataType'\u001b[0m: \u001b[1m[\u001b[0m\u001b[32m'text'\u001b[0m\u001b[1m]\u001b[0m, \u001b[32m'indexFilterable'\u001b[0m: \u001b[3;91mFalse\u001b[0m, \u001b[32m'indexSearchable'\u001b[0m: \u001b[3;91mFalse\u001b[0m\u001b[1m}\u001b[0m,\n",
       "                \u001b[1m{\u001b[0m\u001b[32m'name'\u001b[0m: \u001b[32m'doc_id'\u001b[0m, \u001b[32m'dataType'\u001b[0m: \u001b[1m[\u001b[0m\u001b[32m'text'\u001b[0m\u001b[1m]\u001b[0m, \u001b[32m'indexFilterable'\u001b[0m: \u001b[3;92mTrue\u001b[0m, \u001b[32m'indexSearchable'\u001b[0m: \u001b[3;91mFalse\u001b[0m\u001b[1m}\u001b[0m,\n",
       "                \u001b[1m{\u001b[0m\u001b[32m'name'\u001b[0m: \u001b[32m'guest'\u001b[0m, \u001b[32m'dataType'\u001b[0m: \u001b[1m[\u001b[0m\u001b[32m'text'\u001b[0m\u001b[1m]\u001b[0m, \u001b[32m'indexFilterable'\u001b[0m: \u001b[3;92mTrue\u001b[0m, \u001b[32m'indexSearchable'\u001b[0m: \u001b[3;92mTrue\u001b[0m\u001b[1m}\u001b[0m,\n",
       "                \u001b[1m{\u001b[0m\u001b[32m'name'\u001b[0m: \u001b[32m'summary'\u001b[0m, \u001b[32m'dataType'\u001b[0m: \u001b[1m[\u001b[0m\u001b[32m'text'\u001b[0m\u001b[1m]\u001b[0m, \u001b[32m'indexFilterable'\u001b[0m: \u001b[3;91mFalse\u001b[0m, \u001b[32m'indexSearchable'\u001b[0m: \u001b[3;92mTrue\u001b[0m\u001b[1m}\u001b[0m,\n",
       "                \u001b[1m{\u001b[0m\u001b[32m'name'\u001b[0m: \u001b[32m'content'\u001b[0m, \u001b[32m'dataType'\u001b[0m: \u001b[1m[\u001b[0m\u001b[32m'text'\u001b[0m\u001b[1m]\u001b[0m, \u001b[32m'indexFilterable'\u001b[0m: \u001b[3;91mFalse\u001b[0m, \u001b[32m'indexSearchable'\u001b[0m: \u001b[3;92mTrue\u001b[0m\u001b[1m}\u001b[0m\n",
       "            \u001b[1m]\u001b[0m\n",
       "        \u001b[1m}\u001b[0m\n",
       "    \u001b[1m]\u001b[0m\n",
       "\u001b[1m}\u001b[0m\n"
      ]
     },
     "metadata": {},
     "output_type": "display_data"
    }
   ],
   "source": [
    "print(class_config)"
   ]
  },
  {
   "cell_type": "markdown",
   "id": "a9941d2e-7f37-4d87-afbe-3dd9e4c5ad45",
   "metadata": {},
   "source": [
    "**Execute this call to upload configuration to Weaviate**"
   ]
  },
  {
   "cell_type": "code",
   "execution_count": 14,
   "id": "7f90afe9-7849-419b-8972-0d1c84a36665",
   "metadata": {},
   "outputs": [
    {
     "data": {
      "text/plain": [
       "'Class \"Impact_theory_minilm_256_finetuned\" not found on host'"
      ]
     },
     "execution_count": 14,
     "metadata": {},
     "output_type": "execute_result"
    }
   ],
   "source": [
    "client.delete_class('Impact_theory_minilm_256_finetuned')"
   ]
  },
  {
   "cell_type": "code",
   "execution_count": 15,
   "id": "90802fac-54c6-4f5f-b927-dadf1f6707d6",
   "metadata": {
    "ExecuteTime": {
     "end_time": "2023-12-09T11:23:44.577544Z",
     "start_time": "2023-12-09T11:23:44.376875Z"
    }
   },
   "outputs": [],
   "source": [
    "client.schema.create(class_config) # this method should provide a feedback message letting the user know the schema was created, but it doesn't!"
   ]
  },
  {
   "cell_type": "markdown",
   "id": "0185355d-d60d-41c1-9c1a-cfa72132d27d",
   "metadata": {},
   "source": [
    "**Execute this call to see that your class was successfully configured on Weaviate**"
   ]
  },
  {
   "cell_type": "code",
   "execution_count": 16,
   "id": "0553d794-5c51-4199-a272-81512935ebac",
   "metadata": {
    "ExecuteTime": {
     "end_time": "2023-12-09T11:23:49.265893Z",
     "start_time": "2023-12-09T11:23:49.140877Z"
    }
   },
   "outputs": [
    {
     "data": {
      "text/html": [
       "<pre style=\"white-space:pre;overflow-x:auto;line-height:normal;font-family:Menlo,'DejaVu Sans Mono',consolas,'Courier New',monospace\"><span style=\"font-weight: bold\">{</span>\n",
       "    <span style=\"color: #008000; text-decoration-color: #008000\">'class'</span>: <span style=\"color: #008000; text-decoration-color: #008000\">'Impact_theory_minilm_256_finetuned'</span>,\n",
       "    <span style=\"color: #008000; text-decoration-color: #008000\">'description'</span>: <span style=\"color: #008000; text-decoration-color: #008000\">'Episodes of Impact Theory up to Nov 2023'</span>,\n",
       "    <span style=\"color: #008000; text-decoration-color: #008000\">'invertedIndexConfig'</span>: <span style=\"font-weight: bold\">{</span>\n",
       "        <span style=\"color: #008000; text-decoration-color: #008000\">'bm25'</span>: <span style=\"font-weight: bold\">{</span><span style=\"color: #008000; text-decoration-color: #008000\">'b'</span>: <span style=\"color: #008080; text-decoration-color: #008080; font-weight: bold\">0.75</span>, <span style=\"color: #008000; text-decoration-color: #008000\">'k1'</span>: <span style=\"color: #008080; text-decoration-color: #008080; font-weight: bold\">1.2</span><span style=\"font-weight: bold\">}</span>,\n",
       "        <span style=\"color: #008000; text-decoration-color: #008000\">'cleanupIntervalSeconds'</span>: <span style=\"color: #008080; text-decoration-color: #008080; font-weight: bold\">60</span>,\n",
       "        <span style=\"color: #008000; text-decoration-color: #008000\">'stopwords'</span>: <span style=\"font-weight: bold\">{</span><span style=\"color: #008000; text-decoration-color: #008000\">'additions'</span>: <span style=\"color: #800080; text-decoration-color: #800080; font-style: italic\">None</span>, <span style=\"color: #008000; text-decoration-color: #008000\">'preset'</span>: <span style=\"color: #008000; text-decoration-color: #008000\">'en'</span>, <span style=\"color: #008000; text-decoration-color: #008000\">'removals'</span>: <span style=\"color: #800080; text-decoration-color: #800080; font-style: italic\">None</span><span style=\"font-weight: bold\">}</span>\n",
       "    <span style=\"font-weight: bold\">}</span>,\n",
       "    <span style=\"color: #008000; text-decoration-color: #008000\">'multiTenancyConfig'</span>: <span style=\"font-weight: bold\">{</span><span style=\"color: #008000; text-decoration-color: #008000\">'enabled'</span>: <span style=\"color: #ff0000; text-decoration-color: #ff0000; font-style: italic\">False</span><span style=\"font-weight: bold\">}</span>,\n",
       "    <span style=\"color: #008000; text-decoration-color: #008000\">'properties'</span>: <span style=\"font-weight: bold\">[</span>\n",
       "        <span style=\"font-weight: bold\">{</span>\n",
       "            <span style=\"color: #008000; text-decoration-color: #008000\">'dataType'</span>: <span style=\"font-weight: bold\">[</span><span style=\"color: #008000; text-decoration-color: #008000\">'text'</span><span style=\"font-weight: bold\">]</span>,\n",
       "            <span style=\"color: #008000; text-decoration-color: #008000\">'indexFilterable'</span>: <span style=\"color: #00ff00; text-decoration-color: #00ff00; font-style: italic\">True</span>,\n",
       "            <span style=\"color: #008000; text-decoration-color: #008000\">'indexSearchable'</span>: <span style=\"color: #00ff00; text-decoration-color: #00ff00; font-style: italic\">True</span>,\n",
       "            <span style=\"color: #008000; text-decoration-color: #008000\">'name'</span>: <span style=\"color: #008000; text-decoration-color: #008000\">'title'</span>,\n",
       "            <span style=\"color: #008000; text-decoration-color: #008000\">'tokenization'</span>: <span style=\"color: #008000; text-decoration-color: #008000\">'word'</span>\n",
       "        <span style=\"font-weight: bold\">}</span>,\n",
       "        <span style=\"font-weight: bold\">{</span>\n",
       "            <span style=\"color: #008000; text-decoration-color: #008000\">'dataType'</span>: <span style=\"font-weight: bold\">[</span><span style=\"color: #008000; text-decoration-color: #008000\">'text'</span><span style=\"font-weight: bold\">]</span>,\n",
       "            <span style=\"color: #008000; text-decoration-color: #008000\">'indexFilterable'</span>: <span style=\"color: #00ff00; text-decoration-color: #00ff00; font-style: italic\">True</span>,\n",
       "            <span style=\"color: #008000; text-decoration-color: #008000\">'indexSearchable'</span>: <span style=\"color: #ff0000; text-decoration-color: #ff0000; font-style: italic\">False</span>,\n",
       "            <span style=\"color: #008000; text-decoration-color: #008000\">'name'</span>: <span style=\"color: #008000; text-decoration-color: #008000\">'video_id'</span>,\n",
       "            <span style=\"color: #008000; text-decoration-color: #008000\">'tokenization'</span>: <span style=\"color: #008000; text-decoration-color: #008000\">'word'</span>\n",
       "        <span style=\"font-weight: bold\">}</span>,\n",
       "        <span style=\"font-weight: bold\">{</span><span style=\"color: #008000; text-decoration-color: #008000\">'dataType'</span>: <span style=\"font-weight: bold\">[</span><span style=\"color: #008000; text-decoration-color: #008000\">'int'</span><span style=\"font-weight: bold\">]</span>, <span style=\"color: #008000; text-decoration-color: #008000\">'indexFilterable'</span>: <span style=\"color: #00ff00; text-decoration-color: #00ff00; font-style: italic\">True</span>, <span style=\"color: #008000; text-decoration-color: #008000\">'indexSearchable'</span>: <span style=\"color: #ff0000; text-decoration-color: #ff0000; font-style: italic\">False</span>, <span style=\"color: #008000; text-decoration-color: #008000\">'name'</span>: <span style=\"color: #008000; text-decoration-color: #008000\">'length'</span><span style=\"font-weight: bold\">}</span>,\n",
       "        <span style=\"font-weight: bold\">{</span>\n",
       "            <span style=\"color: #008000; text-decoration-color: #008000\">'dataType'</span>: <span style=\"font-weight: bold\">[</span><span style=\"color: #008000; text-decoration-color: #008000\">'text'</span><span style=\"font-weight: bold\">]</span>,\n",
       "            <span style=\"color: #008000; text-decoration-color: #008000\">'indexFilterable'</span>: <span style=\"color: #ff0000; text-decoration-color: #ff0000; font-style: italic\">False</span>,\n",
       "            <span style=\"color: #008000; text-decoration-color: #008000\">'indexSearchable'</span>: <span style=\"color: #ff0000; text-decoration-color: #ff0000; font-style: italic\">False</span>,\n",
       "            <span style=\"color: #008000; text-decoration-color: #008000\">'name'</span>: <span style=\"color: #008000; text-decoration-color: #008000\">'thumbnail_url'</span>,\n",
       "            <span style=\"color: #008000; text-decoration-color: #008000\">'tokenization'</span>: <span style=\"color: #008000; text-decoration-color: #008000\">'word'</span>\n",
       "        <span style=\"font-weight: bold\">}</span>,\n",
       "        <span style=\"font-weight: bold\">{</span><span style=\"color: #008000; text-decoration-color: #008000\">'dataType'</span>: <span style=\"font-weight: bold\">[</span><span style=\"color: #008000; text-decoration-color: #008000\">'int'</span><span style=\"font-weight: bold\">]</span>, <span style=\"color: #008000; text-decoration-color: #008000\">'indexFilterable'</span>: <span style=\"color: #00ff00; text-decoration-color: #00ff00; font-style: italic\">True</span>, <span style=\"color: #008000; text-decoration-color: #008000\">'indexSearchable'</span>: <span style=\"color: #ff0000; text-decoration-color: #ff0000; font-style: italic\">False</span>, <span style=\"color: #008000; text-decoration-color: #008000\">'name'</span>: <span style=\"color: #008000; text-decoration-color: #008000\">'views'</span><span style=\"font-weight: bold\">}</span>,\n",
       "        <span style=\"font-weight: bold\">{</span>\n",
       "            <span style=\"color: #008000; text-decoration-color: #008000\">'dataType'</span>: <span style=\"font-weight: bold\">[</span><span style=\"color: #008000; text-decoration-color: #008000\">'text'</span><span style=\"font-weight: bold\">]</span>,\n",
       "            <span style=\"color: #008000; text-decoration-color: #008000\">'indexFilterable'</span>: <span style=\"color: #ff0000; text-decoration-color: #ff0000; font-style: italic\">False</span>,\n",
       "            <span style=\"color: #008000; text-decoration-color: #008000\">'indexSearchable'</span>: <span style=\"color: #ff0000; text-decoration-color: #ff0000; font-style: italic\">False</span>,\n",
       "            <span style=\"color: #008000; text-decoration-color: #008000\">'name'</span>: <span style=\"color: #008000; text-decoration-color: #008000\">'episode_url'</span>,\n",
       "            <span style=\"color: #008000; text-decoration-color: #008000\">'tokenization'</span>: <span style=\"color: #008000; text-decoration-color: #008000\">'word'</span>\n",
       "        <span style=\"font-weight: bold\">}</span>,\n",
       "        <span style=\"font-weight: bold\">{</span>\n",
       "            <span style=\"color: #008000; text-decoration-color: #008000\">'dataType'</span>: <span style=\"font-weight: bold\">[</span><span style=\"color: #008000; text-decoration-color: #008000\">'text'</span><span style=\"font-weight: bold\">]</span>,\n",
       "            <span style=\"color: #008000; text-decoration-color: #008000\">'indexFilterable'</span>: <span style=\"color: #00ff00; text-decoration-color: #00ff00; font-style: italic\">True</span>,\n",
       "            <span style=\"color: #008000; text-decoration-color: #008000\">'indexSearchable'</span>: <span style=\"color: #ff0000; text-decoration-color: #ff0000; font-style: italic\">False</span>,\n",
       "            <span style=\"color: #008000; text-decoration-color: #008000\">'name'</span>: <span style=\"color: #008000; text-decoration-color: #008000\">'doc_id'</span>,\n",
       "            <span style=\"color: #008000; text-decoration-color: #008000\">'tokenization'</span>: <span style=\"color: #008000; text-decoration-color: #008000\">'word'</span>\n",
       "        <span style=\"font-weight: bold\">}</span>,\n",
       "        <span style=\"font-weight: bold\">{</span>\n",
       "            <span style=\"color: #008000; text-decoration-color: #008000\">'dataType'</span>: <span style=\"font-weight: bold\">[</span><span style=\"color: #008000; text-decoration-color: #008000\">'text'</span><span style=\"font-weight: bold\">]</span>,\n",
       "            <span style=\"color: #008000; text-decoration-color: #008000\">'indexFilterable'</span>: <span style=\"color: #00ff00; text-decoration-color: #00ff00; font-style: italic\">True</span>,\n",
       "            <span style=\"color: #008000; text-decoration-color: #008000\">'indexSearchable'</span>: <span style=\"color: #00ff00; text-decoration-color: #00ff00; font-style: italic\">True</span>,\n",
       "            <span style=\"color: #008000; text-decoration-color: #008000\">'name'</span>: <span style=\"color: #008000; text-decoration-color: #008000\">'guest'</span>,\n",
       "            <span style=\"color: #008000; text-decoration-color: #008000\">'tokenization'</span>: <span style=\"color: #008000; text-decoration-color: #008000\">'word'</span>\n",
       "        <span style=\"font-weight: bold\">}</span>,\n",
       "        <span style=\"font-weight: bold\">{</span>\n",
       "            <span style=\"color: #008000; text-decoration-color: #008000\">'dataType'</span>: <span style=\"font-weight: bold\">[</span><span style=\"color: #008000; text-decoration-color: #008000\">'text'</span><span style=\"font-weight: bold\">]</span>,\n",
       "            <span style=\"color: #008000; text-decoration-color: #008000\">'indexFilterable'</span>: <span style=\"color: #ff0000; text-decoration-color: #ff0000; font-style: italic\">False</span>,\n",
       "            <span style=\"color: #008000; text-decoration-color: #008000\">'indexSearchable'</span>: <span style=\"color: #00ff00; text-decoration-color: #00ff00; font-style: italic\">True</span>,\n",
       "            <span style=\"color: #008000; text-decoration-color: #008000\">'name'</span>: <span style=\"color: #008000; text-decoration-color: #008000\">'summary'</span>,\n",
       "            <span style=\"color: #008000; text-decoration-color: #008000\">'tokenization'</span>: <span style=\"color: #008000; text-decoration-color: #008000\">'word'</span>\n",
       "        <span style=\"font-weight: bold\">}</span>,\n",
       "        <span style=\"font-weight: bold\">{</span>\n",
       "            <span style=\"color: #008000; text-decoration-color: #008000\">'dataType'</span>: <span style=\"font-weight: bold\">[</span><span style=\"color: #008000; text-decoration-color: #008000\">'text'</span><span style=\"font-weight: bold\">]</span>,\n",
       "            <span style=\"color: #008000; text-decoration-color: #008000\">'indexFilterable'</span>: <span style=\"color: #ff0000; text-decoration-color: #ff0000; font-style: italic\">False</span>,\n",
       "            <span style=\"color: #008000; text-decoration-color: #008000\">'indexSearchable'</span>: <span style=\"color: #00ff00; text-decoration-color: #00ff00; font-style: italic\">True</span>,\n",
       "            <span style=\"color: #008000; text-decoration-color: #008000\">'name'</span>: <span style=\"color: #008000; text-decoration-color: #008000\">'content'</span>,\n",
       "            <span style=\"color: #008000; text-decoration-color: #008000\">'tokenization'</span>: <span style=\"color: #008000; text-decoration-color: #008000\">'word'</span>\n",
       "        <span style=\"font-weight: bold\">}</span>\n",
       "    <span style=\"font-weight: bold\">]</span>,\n",
       "    <span style=\"color: #008000; text-decoration-color: #008000\">'replicationConfig'</span>: <span style=\"font-weight: bold\">{</span><span style=\"color: #008000; text-decoration-color: #008000\">'factor'</span>: <span style=\"color: #008080; text-decoration-color: #008080; font-weight: bold\">1</span><span style=\"font-weight: bold\">}</span>,\n",
       "    <span style=\"color: #008000; text-decoration-color: #008000\">'shardingConfig'</span>: <span style=\"font-weight: bold\">{</span>\n",
       "        <span style=\"color: #008000; text-decoration-color: #008000\">'virtualPerPhysical'</span>: <span style=\"color: #008080; text-decoration-color: #008080; font-weight: bold\">128</span>,\n",
       "        <span style=\"color: #008000; text-decoration-color: #008000\">'desiredCount'</span>: <span style=\"color: #008080; text-decoration-color: #008080; font-weight: bold\">1</span>,\n",
       "        <span style=\"color: #008000; text-decoration-color: #008000\">'actualCount'</span>: <span style=\"color: #008080; text-decoration-color: #008080; font-weight: bold\">1</span>,\n",
       "        <span style=\"color: #008000; text-decoration-color: #008000\">'desiredVirtualCount'</span>: <span style=\"color: #008080; text-decoration-color: #008080; font-weight: bold\">128</span>,\n",
       "        <span style=\"color: #008000; text-decoration-color: #008000\">'actualVirtualCount'</span>: <span style=\"color: #008080; text-decoration-color: #008080; font-weight: bold\">128</span>,\n",
       "        <span style=\"color: #008000; text-decoration-color: #008000\">'key'</span>: <span style=\"color: #008000; text-decoration-color: #008000\">'_id'</span>,\n",
       "        <span style=\"color: #008000; text-decoration-color: #008000\">'strategy'</span>: <span style=\"color: #008000; text-decoration-color: #008000\">'hash'</span>,\n",
       "        <span style=\"color: #008000; text-decoration-color: #008000\">'function'</span>: <span style=\"color: #008000; text-decoration-color: #008000\">'murmur3'</span>\n",
       "    <span style=\"font-weight: bold\">}</span>,\n",
       "    <span style=\"color: #008000; text-decoration-color: #008000\">'vectorIndexConfig'</span>: <span style=\"font-weight: bold\">{</span>\n",
       "        <span style=\"color: #008000; text-decoration-color: #008000\">'skip'</span>: <span style=\"color: #ff0000; text-decoration-color: #ff0000; font-style: italic\">False</span>,\n",
       "        <span style=\"color: #008000; text-decoration-color: #008000\">'cleanupIntervalSeconds'</span>: <span style=\"color: #008080; text-decoration-color: #008080; font-weight: bold\">300</span>,\n",
       "        <span style=\"color: #008000; text-decoration-color: #008000\">'maxConnections'</span>: <span style=\"color: #008080; text-decoration-color: #008080; font-weight: bold\">32</span>,\n",
       "        <span style=\"color: #008000; text-decoration-color: #008000\">'efConstruction'</span>: <span style=\"color: #008080; text-decoration-color: #008080; font-weight: bold\">128</span>,\n",
       "        <span style=\"color: #008000; text-decoration-color: #008000\">'ef'</span>: <span style=\"color: #008080; text-decoration-color: #008080; font-weight: bold\">64</span>,\n",
       "        <span style=\"color: #008000; text-decoration-color: #008000\">'dynamicEfMin'</span>: <span style=\"color: #008080; text-decoration-color: #008080; font-weight: bold\">100</span>,\n",
       "        <span style=\"color: #008000; text-decoration-color: #008000\">'dynamicEfMax'</span>: <span style=\"color: #008080; text-decoration-color: #008080; font-weight: bold\">500</span>,\n",
       "        <span style=\"color: #008000; text-decoration-color: #008000\">'dynamicEfFactor'</span>: <span style=\"color: #008080; text-decoration-color: #008080; font-weight: bold\">8</span>,\n",
       "        <span style=\"color: #008000; text-decoration-color: #008000\">'vectorCacheMaxObjects'</span>: <span style=\"color: #008080; text-decoration-color: #008080; font-weight: bold\">1000000000000</span>,\n",
       "        <span style=\"color: #008000; text-decoration-color: #008000\">'flatSearchCutoff'</span>: <span style=\"color: #008080; text-decoration-color: #008080; font-weight: bold\">40000</span>,\n",
       "        <span style=\"color: #008000; text-decoration-color: #008000\">'distance'</span>: <span style=\"color: #008000; text-decoration-color: #008000\">'cosine'</span>,\n",
       "        <span style=\"color: #008000; text-decoration-color: #008000\">'pq'</span>: <span style=\"font-weight: bold\">{</span>\n",
       "            <span style=\"color: #008000; text-decoration-color: #008000\">'enabled'</span>: <span style=\"color: #ff0000; text-decoration-color: #ff0000; font-style: italic\">False</span>,\n",
       "            <span style=\"color: #008000; text-decoration-color: #008000\">'bitCompression'</span>: <span style=\"color: #ff0000; text-decoration-color: #ff0000; font-style: italic\">False</span>,\n",
       "            <span style=\"color: #008000; text-decoration-color: #008000\">'segments'</span>: <span style=\"color: #008080; text-decoration-color: #008080; font-weight: bold\">0</span>,\n",
       "            <span style=\"color: #008000; text-decoration-color: #008000\">'centroids'</span>: <span style=\"color: #008080; text-decoration-color: #008080; font-weight: bold\">256</span>,\n",
       "            <span style=\"color: #008000; text-decoration-color: #008000\">'trainingLimit'</span>: <span style=\"color: #008080; text-decoration-color: #008080; font-weight: bold\">100000</span>,\n",
       "            <span style=\"color: #008000; text-decoration-color: #008000\">'encoder'</span>: <span style=\"font-weight: bold\">{</span><span style=\"color: #008000; text-decoration-color: #008000\">'type'</span>: <span style=\"color: #008000; text-decoration-color: #008000\">'kmeans'</span>, <span style=\"color: #008000; text-decoration-color: #008000\">'distribution'</span>: <span style=\"color: #008000; text-decoration-color: #008000\">'log-normal'</span><span style=\"font-weight: bold\">}</span>\n",
       "        <span style=\"font-weight: bold\">}</span>\n",
       "    <span style=\"font-weight: bold\">}</span>,\n",
       "    <span style=\"color: #008000; text-decoration-color: #008000\">'vectorIndexType'</span>: <span style=\"color: #008000; text-decoration-color: #008000\">'hnsw'</span>,\n",
       "    <span style=\"color: #008000; text-decoration-color: #008000\">'vectorizer'</span>: <span style=\"color: #008000; text-decoration-color: #008000\">'none'</span>\n",
       "<span style=\"font-weight: bold\">}</span>\n",
       "</pre>\n"
      ],
      "text/plain": [
       "\u001b[1m{\u001b[0m\n",
       "    \u001b[32m'class'\u001b[0m: \u001b[32m'Impact_theory_minilm_256_finetuned'\u001b[0m,\n",
       "    \u001b[32m'description'\u001b[0m: \u001b[32m'Episodes of Impact Theory up to Nov 2023'\u001b[0m,\n",
       "    \u001b[32m'invertedIndexConfig'\u001b[0m: \u001b[1m{\u001b[0m\n",
       "        \u001b[32m'bm25'\u001b[0m: \u001b[1m{\u001b[0m\u001b[32m'b'\u001b[0m: \u001b[1;36m0.75\u001b[0m, \u001b[32m'k1'\u001b[0m: \u001b[1;36m1.2\u001b[0m\u001b[1m}\u001b[0m,\n",
       "        \u001b[32m'cleanupIntervalSeconds'\u001b[0m: \u001b[1;36m60\u001b[0m,\n",
       "        \u001b[32m'stopwords'\u001b[0m: \u001b[1m{\u001b[0m\u001b[32m'additions'\u001b[0m: \u001b[3;35mNone\u001b[0m, \u001b[32m'preset'\u001b[0m: \u001b[32m'en'\u001b[0m, \u001b[32m'removals'\u001b[0m: \u001b[3;35mNone\u001b[0m\u001b[1m}\u001b[0m\n",
       "    \u001b[1m}\u001b[0m,\n",
       "    \u001b[32m'multiTenancyConfig'\u001b[0m: \u001b[1m{\u001b[0m\u001b[32m'enabled'\u001b[0m: \u001b[3;91mFalse\u001b[0m\u001b[1m}\u001b[0m,\n",
       "    \u001b[32m'properties'\u001b[0m: \u001b[1m[\u001b[0m\n",
       "        \u001b[1m{\u001b[0m\n",
       "            \u001b[32m'dataType'\u001b[0m: \u001b[1m[\u001b[0m\u001b[32m'text'\u001b[0m\u001b[1m]\u001b[0m,\n",
       "            \u001b[32m'indexFilterable'\u001b[0m: \u001b[3;92mTrue\u001b[0m,\n",
       "            \u001b[32m'indexSearchable'\u001b[0m: \u001b[3;92mTrue\u001b[0m,\n",
       "            \u001b[32m'name'\u001b[0m: \u001b[32m'title'\u001b[0m,\n",
       "            \u001b[32m'tokenization'\u001b[0m: \u001b[32m'word'\u001b[0m\n",
       "        \u001b[1m}\u001b[0m,\n",
       "        \u001b[1m{\u001b[0m\n",
       "            \u001b[32m'dataType'\u001b[0m: \u001b[1m[\u001b[0m\u001b[32m'text'\u001b[0m\u001b[1m]\u001b[0m,\n",
       "            \u001b[32m'indexFilterable'\u001b[0m: \u001b[3;92mTrue\u001b[0m,\n",
       "            \u001b[32m'indexSearchable'\u001b[0m: \u001b[3;91mFalse\u001b[0m,\n",
       "            \u001b[32m'name'\u001b[0m: \u001b[32m'video_id'\u001b[0m,\n",
       "            \u001b[32m'tokenization'\u001b[0m: \u001b[32m'word'\u001b[0m\n",
       "        \u001b[1m}\u001b[0m,\n",
       "        \u001b[1m{\u001b[0m\u001b[32m'dataType'\u001b[0m: \u001b[1m[\u001b[0m\u001b[32m'int'\u001b[0m\u001b[1m]\u001b[0m, \u001b[32m'indexFilterable'\u001b[0m: \u001b[3;92mTrue\u001b[0m, \u001b[32m'indexSearchable'\u001b[0m: \u001b[3;91mFalse\u001b[0m, \u001b[32m'name'\u001b[0m: \u001b[32m'length'\u001b[0m\u001b[1m}\u001b[0m,\n",
       "        \u001b[1m{\u001b[0m\n",
       "            \u001b[32m'dataType'\u001b[0m: \u001b[1m[\u001b[0m\u001b[32m'text'\u001b[0m\u001b[1m]\u001b[0m,\n",
       "            \u001b[32m'indexFilterable'\u001b[0m: \u001b[3;91mFalse\u001b[0m,\n",
       "            \u001b[32m'indexSearchable'\u001b[0m: \u001b[3;91mFalse\u001b[0m,\n",
       "            \u001b[32m'name'\u001b[0m: \u001b[32m'thumbnail_url'\u001b[0m,\n",
       "            \u001b[32m'tokenization'\u001b[0m: \u001b[32m'word'\u001b[0m\n",
       "        \u001b[1m}\u001b[0m,\n",
       "        \u001b[1m{\u001b[0m\u001b[32m'dataType'\u001b[0m: \u001b[1m[\u001b[0m\u001b[32m'int'\u001b[0m\u001b[1m]\u001b[0m, \u001b[32m'indexFilterable'\u001b[0m: \u001b[3;92mTrue\u001b[0m, \u001b[32m'indexSearchable'\u001b[0m: \u001b[3;91mFalse\u001b[0m, \u001b[32m'name'\u001b[0m: \u001b[32m'views'\u001b[0m\u001b[1m}\u001b[0m,\n",
       "        \u001b[1m{\u001b[0m\n",
       "            \u001b[32m'dataType'\u001b[0m: \u001b[1m[\u001b[0m\u001b[32m'text'\u001b[0m\u001b[1m]\u001b[0m,\n",
       "            \u001b[32m'indexFilterable'\u001b[0m: \u001b[3;91mFalse\u001b[0m,\n",
       "            \u001b[32m'indexSearchable'\u001b[0m: \u001b[3;91mFalse\u001b[0m,\n",
       "            \u001b[32m'name'\u001b[0m: \u001b[32m'episode_url'\u001b[0m,\n",
       "            \u001b[32m'tokenization'\u001b[0m: \u001b[32m'word'\u001b[0m\n",
       "        \u001b[1m}\u001b[0m,\n",
       "        \u001b[1m{\u001b[0m\n",
       "            \u001b[32m'dataType'\u001b[0m: \u001b[1m[\u001b[0m\u001b[32m'text'\u001b[0m\u001b[1m]\u001b[0m,\n",
       "            \u001b[32m'indexFilterable'\u001b[0m: \u001b[3;92mTrue\u001b[0m,\n",
       "            \u001b[32m'indexSearchable'\u001b[0m: \u001b[3;91mFalse\u001b[0m,\n",
       "            \u001b[32m'name'\u001b[0m: \u001b[32m'doc_id'\u001b[0m,\n",
       "            \u001b[32m'tokenization'\u001b[0m: \u001b[32m'word'\u001b[0m\n",
       "        \u001b[1m}\u001b[0m,\n",
       "        \u001b[1m{\u001b[0m\n",
       "            \u001b[32m'dataType'\u001b[0m: \u001b[1m[\u001b[0m\u001b[32m'text'\u001b[0m\u001b[1m]\u001b[0m,\n",
       "            \u001b[32m'indexFilterable'\u001b[0m: \u001b[3;92mTrue\u001b[0m,\n",
       "            \u001b[32m'indexSearchable'\u001b[0m: \u001b[3;92mTrue\u001b[0m,\n",
       "            \u001b[32m'name'\u001b[0m: \u001b[32m'guest'\u001b[0m,\n",
       "            \u001b[32m'tokenization'\u001b[0m: \u001b[32m'word'\u001b[0m\n",
       "        \u001b[1m}\u001b[0m,\n",
       "        \u001b[1m{\u001b[0m\n",
       "            \u001b[32m'dataType'\u001b[0m: \u001b[1m[\u001b[0m\u001b[32m'text'\u001b[0m\u001b[1m]\u001b[0m,\n",
       "            \u001b[32m'indexFilterable'\u001b[0m: \u001b[3;91mFalse\u001b[0m,\n",
       "            \u001b[32m'indexSearchable'\u001b[0m: \u001b[3;92mTrue\u001b[0m,\n",
       "            \u001b[32m'name'\u001b[0m: \u001b[32m'summary'\u001b[0m,\n",
       "            \u001b[32m'tokenization'\u001b[0m: \u001b[32m'word'\u001b[0m\n",
       "        \u001b[1m}\u001b[0m,\n",
       "        \u001b[1m{\u001b[0m\n",
       "            \u001b[32m'dataType'\u001b[0m: \u001b[1m[\u001b[0m\u001b[32m'text'\u001b[0m\u001b[1m]\u001b[0m,\n",
       "            \u001b[32m'indexFilterable'\u001b[0m: \u001b[3;91mFalse\u001b[0m,\n",
       "            \u001b[32m'indexSearchable'\u001b[0m: \u001b[3;92mTrue\u001b[0m,\n",
       "            \u001b[32m'name'\u001b[0m: \u001b[32m'content'\u001b[0m,\n",
       "            \u001b[32m'tokenization'\u001b[0m: \u001b[32m'word'\u001b[0m\n",
       "        \u001b[1m}\u001b[0m\n",
       "    \u001b[1m]\u001b[0m,\n",
       "    \u001b[32m'replicationConfig'\u001b[0m: \u001b[1m{\u001b[0m\u001b[32m'factor'\u001b[0m: \u001b[1;36m1\u001b[0m\u001b[1m}\u001b[0m,\n",
       "    \u001b[32m'shardingConfig'\u001b[0m: \u001b[1m{\u001b[0m\n",
       "        \u001b[32m'virtualPerPhysical'\u001b[0m: \u001b[1;36m128\u001b[0m,\n",
       "        \u001b[32m'desiredCount'\u001b[0m: \u001b[1;36m1\u001b[0m,\n",
       "        \u001b[32m'actualCount'\u001b[0m: \u001b[1;36m1\u001b[0m,\n",
       "        \u001b[32m'desiredVirtualCount'\u001b[0m: \u001b[1;36m128\u001b[0m,\n",
       "        \u001b[32m'actualVirtualCount'\u001b[0m: \u001b[1;36m128\u001b[0m,\n",
       "        \u001b[32m'key'\u001b[0m: \u001b[32m'_id'\u001b[0m,\n",
       "        \u001b[32m'strategy'\u001b[0m: \u001b[32m'hash'\u001b[0m,\n",
       "        \u001b[32m'function'\u001b[0m: \u001b[32m'murmur3'\u001b[0m\n",
       "    \u001b[1m}\u001b[0m,\n",
       "    \u001b[32m'vectorIndexConfig'\u001b[0m: \u001b[1m{\u001b[0m\n",
       "        \u001b[32m'skip'\u001b[0m: \u001b[3;91mFalse\u001b[0m,\n",
       "        \u001b[32m'cleanupIntervalSeconds'\u001b[0m: \u001b[1;36m300\u001b[0m,\n",
       "        \u001b[32m'maxConnections'\u001b[0m: \u001b[1;36m32\u001b[0m,\n",
       "        \u001b[32m'efConstruction'\u001b[0m: \u001b[1;36m128\u001b[0m,\n",
       "        \u001b[32m'ef'\u001b[0m: \u001b[1;36m64\u001b[0m,\n",
       "        \u001b[32m'dynamicEfMin'\u001b[0m: \u001b[1;36m100\u001b[0m,\n",
       "        \u001b[32m'dynamicEfMax'\u001b[0m: \u001b[1;36m500\u001b[0m,\n",
       "        \u001b[32m'dynamicEfFactor'\u001b[0m: \u001b[1;36m8\u001b[0m,\n",
       "        \u001b[32m'vectorCacheMaxObjects'\u001b[0m: \u001b[1;36m1000000000000\u001b[0m,\n",
       "        \u001b[32m'flatSearchCutoff'\u001b[0m: \u001b[1;36m40000\u001b[0m,\n",
       "        \u001b[32m'distance'\u001b[0m: \u001b[32m'cosine'\u001b[0m,\n",
       "        \u001b[32m'pq'\u001b[0m: \u001b[1m{\u001b[0m\n",
       "            \u001b[32m'enabled'\u001b[0m: \u001b[3;91mFalse\u001b[0m,\n",
       "            \u001b[32m'bitCompression'\u001b[0m: \u001b[3;91mFalse\u001b[0m,\n",
       "            \u001b[32m'segments'\u001b[0m: \u001b[1;36m0\u001b[0m,\n",
       "            \u001b[32m'centroids'\u001b[0m: \u001b[1;36m256\u001b[0m,\n",
       "            \u001b[32m'trainingLimit'\u001b[0m: \u001b[1;36m100000\u001b[0m,\n",
       "            \u001b[32m'encoder'\u001b[0m: \u001b[1m{\u001b[0m\u001b[32m'type'\u001b[0m: \u001b[32m'kmeans'\u001b[0m, \u001b[32m'distribution'\u001b[0m: \u001b[32m'log-normal'\u001b[0m\u001b[1m}\u001b[0m\n",
       "        \u001b[1m}\u001b[0m\n",
       "    \u001b[1m}\u001b[0m,\n",
       "    \u001b[32m'vectorIndexType'\u001b[0m: \u001b[32m'hnsw'\u001b[0m,\n",
       "    \u001b[32m'vectorizer'\u001b[0m: \u001b[32m'none'\u001b[0m\n",
       "\u001b[1m}\u001b[0m\n"
      ]
     },
     "metadata": {},
     "output_type": "display_data"
    }
   ],
   "source": [
    "print(client.show_class_config(class_name))"
   ]
  },
  {
   "cell_type": "markdown",
   "id": "06d7b641-3f82-46a1-be2a-b6cefb69ec92",
   "metadata": {},
   "source": [
    "### Data Indexing"
   ]
  },
  {
   "cell_type": "code",
   "execution_count": 17,
   "id": "3da13c2c-695e-4d49-989c-17383ba2f9bb",
   "metadata": {},
   "outputs": [
    {
     "name": "stderr",
     "output_type": "stream",
     "text": [
      "100%|█████████████████████████████████████████████████████████████████████████████████████████████████████████████████████████████| 26448/26448 [02:54<00:00, 151.99it/s]\n"
     ]
    },
    {
     "name": "stdout",
     "output_type": "stream",
     "text": [
      "Batch job completed in 2.95 minutes.\n"
     ]
    }
   ],
   "source": [
    "from weaviate_interface import WeaviateClient, WeaviateIndexer\n",
    "\n",
    "##############\n",
    "# START CODE #\n",
    "##############\n",
    "\n",
    "# Instantiate WeaviateIndexer with specified batch size and number of workers\n",
    "indexer = WeaviateIndexer(client, batch_size=200, num_workers=2)\n",
    "\n",
    "# Batch index data\n",
    "indexer.batch_index_data(data, class_name)\n",
    "\n",
    "##############\n",
    "# END CODE   ##\n",
    "##############"
   ]
  },
  {
   "cell_type": "markdown",
   "id": "eff5bfdc-7bdd-4dd4-8eb5-fffed5dd828b",
   "metadata": {},
   "source": [
    "### Results"
   ]
  },
  {
   "cell_type": "code",
   "execution_count": 18,
   "id": "626ec883-6cc2-40b6-a4e0-3feee82c01fb",
   "metadata": {},
   "outputs": [
    {
     "data": {
      "application/vnd.jupyter.widget-view+json": {
       "model_id": "1096b20916fa4a87b0e4ac0d8aa630a6",
       "version_major": 2,
       "version_minor": 0
      },
      "text/plain": [
       "Queries:   0%|          | 0/100 [00:00<?, ?it/s]"
      ]
     },
     "metadata": {},
     "output_type": "display_data"
    },
    {
     "data": {
      "text/html": [
       "<pre style=\"white-space:pre;overflow-x:auto;line-height:normal;font-family:Menlo,'DejaVu Sans Mono',consolas,'Courier New',monospace\">Total Processing Time: <span style=\"color: #008080; text-decoration-color: #008080; font-weight: bold\">0.25</span> minutes\n",
       "</pre>\n"
      ],
      "text/plain": [
       "Total Processing Time: \u001b[1;36m0.25\u001b[0m minutes\n"
      ]
     },
     "metadata": {},
     "output_type": "display_data"
    },
    {
     "data": {
      "text/plain": [
       "{'n': 5,\n",
       " 'Retriever': './models/finetuned-all-MiniLM-L6-v2-300',\n",
       " 'chunk_size': 256,\n",
       " 'kw_hit_rate': 0.72,\n",
       " 'kw_mrr': 0.59,\n",
       " 'vector_hit_rate': 0.46,\n",
       " 'vector_mrr': 0.33,\n",
       " 'total_misses': 19,\n",
       " 'total_questions': 100,\n",
       " 'maxConnections': 32,\n",
       " 'efConstruction': 128,\n",
       " 'ef': 64}"
      ]
     },
     "execution_count": 18,
     "metadata": {},
     "output_type": "execute_result"
    }
   ],
   "source": [
    "results = retrieval_evaluation(golden_dataset, class_name, client)\n",
    "results"
   ]
  },
  {
   "cell_type": "code",
   "execution_count": null,
   "id": "c6bb5380-c263-4f29-a401-34fd6f3223df",
   "metadata": {},
   "outputs": [],
   "source": []
  }
 ],
 "metadata": {
  "kernelspec": {
   "display_name": "vector-search",
   "language": "python",
   "name": "vector-search"
  },
  "language_info": {
   "codemirror_mode": {
    "name": "ipython",
    "version": 3
   },
   "file_extension": ".py",
   "mimetype": "text/x-python",
   "name": "python",
   "nbconvert_exporter": "python",
   "pygments_lexer": "ipython3",
   "version": "3.10.13"
  }
 },
 "nbformat": 4,
 "nbformat_minor": 5
}
